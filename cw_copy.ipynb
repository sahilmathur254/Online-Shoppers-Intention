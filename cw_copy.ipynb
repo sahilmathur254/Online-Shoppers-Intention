{
 "cells": [
  {
   "cell_type": "code",
   "execution_count": null,
   "metadata": {},
   "outputs": [],
   "source": [
    "import pandas as pd\n",
    "import numpy as np\n",
    "import matplotlib.pyplot as plt\n",
    "import seaborn as sns"
   ]
  },
  {
   "cell_type": "code",
   "execution_count": null,
   "metadata": {},
   "outputs": [],
   "source": [
    "#load csv file\n",
    "df = pd.read_csv('online_shoppers_intention.csv')\n",
    "df.head()"
   ]
  },
  {
   "cell_type": "code",
   "execution_count": null,
   "metadata": {},
   "outputs": [],
   "source": [
    "df.shape"
   ]
  },
  {
   "cell_type": "code",
   "execution_count": null,
   "metadata": {},
   "outputs": [],
   "source": [
    "df.columns"
   ]
  },
  {
   "cell_type": "code",
   "execution_count": null,
   "metadata": {},
   "outputs": [],
   "source": [
    "df.describe()"
   ]
  },
  {
   "cell_type": "code",
   "execution_count": null,
   "metadata": {},
   "outputs": [],
   "source": [
    "#print(df.isnull().sum())\n",
    "print(df.isnull().sum().sum())\n",
    "print(df.isna().sum().sum())"
   ]
  },
  {
   "cell_type": "code",
   "execution_count": null,
   "metadata": {},
   "outputs": [],
   "source": [
    "df.info()"
   ]
  },
  {
   "cell_type": "code",
   "execution_count": null,
   "metadata": {},
   "outputs": [],
   "source": [
    "numerical = ['Administrative','Administrative_Duration','Informational', 'Informational_Duration','ProductRelated', 'ProductRelated_Duration', 'BounceRates', 'ExitRates', 'PageValues', 'SpecialDay']\n",
    "categorical = ['OperatingSystems','Browser','Region','TrafficType','VisitorType','Weekend','Month','Revenue']\n"
   ]
  },
  {
   "cell_type": "code",
   "execution_count": null,
   "metadata": {},
   "outputs": [],
   "source": [
    "df[numerical].info()"
   ]
  },
  {
   "cell_type": "code",
   "execution_count": null,
   "metadata": {},
   "outputs": [],
   "source": [
    "df[categorical].info()"
   ]
  },
  {
   "cell_type": "code",
   "execution_count": null,
   "metadata": {},
   "outputs": [],
   "source": [
    "#get unique values in each column\n",
    "print(df[categorical].nunique())"
   ]
  },
  {
   "cell_type": "code",
   "execution_count": null,
   "metadata": {},
   "outputs": [],
   "source": [
    "#print unique values in VisitorType column\n",
    "print(df.VisitorType.unique())"
   ]
  },
  {
   "cell_type": "code",
   "execution_count": null,
   "metadata": {},
   "outputs": [],
   "source": [
    "print(df.Month.unique())"
   ]
  },
  {
   "cell_type": "code",
   "execution_count": null,
   "metadata": {},
   "outputs": [],
   "source": [
    "#create a piechart to visualize the visitor type using plot.pie\n",
    "plt.figure(figsize=(5,5))\n",
    "pie = df['VisitorType'].value_counts().plot.pie(autopct='%1.1f%%', shadow=True, startangle=90)\n",
    "pie.figure.patch.set_facecolor('white')\n",
    "plt.title('Visitor Type')\n",
    "plt.ylabel('')\n",
    "plt.show()"
   ]
  },
  {
   "cell_type": "code",
   "execution_count": null,
   "metadata": {},
   "outputs": [],
   "source": [
    "#count of visitors by month\n",
    "plt.figure(figsize=(5,5))\n",
    "sns.countplot(x='Month', data=df, palette='Greens_d')\n",
    "#plt.text for loop\n",
    "for p in plt.gca().patches:\n",
    "    plt.gca().text(p.get_x()+p.get_width()/2, p.get_y()+p.get_height()/2, '{:,.0f}'.format(p.get_height()), ha='center', color='black', fontsize=10)\n",
    "plt.title('Visitor by Month')\n",
    "plt.ylabel('Count')\n",
    "plt.show()\n"
   ]
  },
  {
   "cell_type": "code",
   "execution_count": null,
   "metadata": {},
   "outputs": [],
   "source": [
    "#create a plot of visitortype vs. Month\n",
    "plt.figure(figsize=(10,6))\n",
    "sns.countplot(x='Month', hue='VisitorType', data=df)\n",
    "plt.legend(bbox_to_anchor=(1.05, 1), loc=2, borderaxespad=0.)\n",
    "plt.show()"
   ]
  },
  {
   "cell_type": "code",
   "execution_count": null,
   "metadata": {},
   "outputs": [],
   "source": [
    "df.columns"
   ]
  },
  {
   "cell_type": "code",
   "execution_count": null,
   "metadata": {},
   "outputs": [],
   "source": [
    "print(df.nunique())"
   ]
  },
  {
   "cell_type": "code",
   "execution_count": null,
   "metadata": {},
   "outputs": [],
   "source": [
    "#unique values in OperatingSystem column\n",
    "print(\"opertating system unique values:\", df.OperatingSystems.unique())\n",
    "print(\"browser unique values:\", df.Browser.unique())\n",
    "print(\"Special Day unique values:\", df.SpecialDay.unique())\n",
    "print(\"Month\", df.Month.unique())\n",
    "print(\"VisitorType unique values:\", df.VisitorType.unique())\n",
    "print(\"Region unique values:\", df.Region.unique())\n",
    "print(\"TrafficType unique values:\", df.TrafficType.unique())"
   ]
  },
  {
   "cell_type": "code",
   "execution_count": null,
   "metadata": {},
   "outputs": [],
   "source": []
  }
 ],
 "metadata": {
  "kernelspec": {
   "display_name": "Python 3.9.7 ('base')",
   "language": "python",
   "name": "python3"
  },
  "language_info": {
   "codemirror_mode": {
    "name": "ipython",
    "version": 3
   },
   "file_extension": ".py",
   "mimetype": "text/x-python",
   "name": "python",
   "nbconvert_exporter": "python",
   "pygments_lexer": "ipython3",
   "version": "3.12.0"
  },
  "vscode": {
   "interpreter": {
    "hash": "47e351789d9e5e1679eacd87f4d6d5be55d6efc27b2483476fdac7876e191fb0"
   }
  }
 },
 "nbformat": 4,
 "nbformat_minor": 2
}
