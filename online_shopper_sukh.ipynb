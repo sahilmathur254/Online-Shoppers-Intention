{
 "cells": [
  {
   "cell_type": "code",
   "execution_count": 1,
   "id": "8da05065",
   "metadata": {},
   "outputs": [],
   "source": [
    "import pandas as pd\n",
    "import numpy as np\n",
    "import matplotlib.pyplot as plt\n",
    "import seaborn as sns"
   ]
  },
  {
   "cell_type": "markdown",
   "id": "2307615e",
   "metadata": {},
   "source": [
    "## About the Dataset: \n",
    "As stated above, our dataset has 10 numerical features and 8 categorical features. Taking a look at the dataset description:\n",
    "\n",
    "Column Descriptions:\n",
    "Administrative: This is the number of pages of this type (administrative) that the user visited.\n",
    "\n",
    "Administrative_Duration: This is the amount of time spent in this category of pages.\n",
    "\n",
    "Informational: This is the number of pages of this type (informational) that the user visited.\n",
    "\n",
    "Informational_Duration: This is the amount of time spent in this category of pages.\n",
    "\n",
    "ProductRelated: This is the number of pages of this type (product related) that the user visited.\n",
    "\n",
    "ProductRelated_Duration: This is the amount of time spent in this category of pages.\n",
    "\n",
    "BounceRates: The percentage of visitors who enter the website through that page and exit without triggering any additional tasks.\n",
    "\n",
    "ExitRates: The percentage of pageviews on the website that end at that specific page.\n",
    "\n",
    "PageValues: The average value of the page averaged over the value of the target page and/or the completion of an eCommerce transaction.\n",
    "More information about how this is calculated\n",
    "\n",
    "SpecialDay: This value represents the closeness of the browsing date to special days or holidays (eg Mother's Day or Valentine's day) in which the transaction is more likely to be finalized. More information about how this value is calculated below.\n",
    "\n",
    "Month: Contains the month the pageview occurred, in string form.\n",
    "\n",
    "OperatingSystems: An integer value representing the operating system that the user was on when viewing the page.\n",
    "\n",
    "Browser: An integer value representing the browser that the user was using to view the page.\n",
    "\n",
    "Region: An integer value representing which region the user is located in.\n",
    "\n",
    "TrafficType: An integer value representing what type of traffic the user is categorized into.\n",
    "Read more about traffic types here.\n",
    "\n",
    "VisitorType: A string representing whether a visitor is New Visitor, Returning Visitor, or Other.\n",
    "\n",
    "Weekend: A boolean representing whether the session is on a weekend.\n",
    "\n",
    "Revenue: A boolean representing whether or not the user completed the purchase."
   ]
  },
  {
   "cell_type": "markdown",
   "id": "8be877f0",
   "metadata": {},
   "source": [
    "##### Attribute Information: \n",
    "\n",
    "There are 10 numerical and 8 category attributes in the dataset. The class label can be the value of the 'Revenue' attribute. A total of 12,330 sessions were included in the dataset, of which 10,422 were negative class samples and the remaining 1908 were positive class samples that included shopping.\n",
    "\n",
    "The terms \"Administrative,\" \"Administrative Duration,\" \"Informational,\" \"Informational Duration,\" \"Product Related,\" and \"Product Related Duration\" indicate the number of various page kinds that the visitor visited during that session and the sum of the time spent on each of these page types.\n",
    "\n",
    "When a user takes an action, such as switching between pages, the values of these features are updated in real time based on the URL information of the user's visited pages."
   ]
  },
  {
   "cell_type": "markdown",
   "id": "20a80d7b",
   "metadata": {},
   "source": [
    "##### Basically, we are going to compare each features with respect to the target variable Revenue (whether or not the user completed the purchase)"
   ]
  },
  {
   "cell_type": "code",
   "execution_count": 2,
   "id": "7af4d328",
   "metadata": {},
   "outputs": [],
   "source": [
    "df = pd.read_csv('online_shoppers_intention.csv')"
   ]
  },
  {
   "cell_type": "code",
   "execution_count": 3,
   "id": "853a7e9f",
   "metadata": {},
   "outputs": [
    {
     "data": {
      "text/html": [
       "<div>\n",
       "<style scoped>\n",
       "    .dataframe tbody tr th:only-of-type {\n",
       "        vertical-align: middle;\n",
       "    }\n",
       "\n",
       "    .dataframe tbody tr th {\n",
       "        vertical-align: top;\n",
       "    }\n",
       "\n",
       "    .dataframe thead th {\n",
       "        text-align: right;\n",
       "    }\n",
       "</style>\n",
       "<table border=\"1\" class=\"dataframe\">\n",
       "  <thead>\n",
       "    <tr style=\"text-align: right;\">\n",
       "      <th></th>\n",
       "      <th>Administrative</th>\n",
       "      <th>Administrative_Duration</th>\n",
       "      <th>Informational</th>\n",
       "      <th>Informational_Duration</th>\n",
       "      <th>ProductRelated</th>\n",
       "      <th>ProductRelated_Duration</th>\n",
       "      <th>BounceRates</th>\n",
       "      <th>ExitRates</th>\n",
       "      <th>PageValues</th>\n",
       "      <th>SpecialDay</th>\n",
       "      <th>Month</th>\n",
       "      <th>OperatingSystems</th>\n",
       "      <th>Browser</th>\n",
       "      <th>Region</th>\n",
       "      <th>TrafficType</th>\n",
       "      <th>VisitorType</th>\n",
       "      <th>Weekend</th>\n",
       "      <th>Revenue</th>\n",
       "    </tr>\n",
       "  </thead>\n",
       "  <tbody>\n",
       "    <tr>\n",
       "      <th>0</th>\n",
       "      <td>0</td>\n",
       "      <td>0.0</td>\n",
       "      <td>0</td>\n",
       "      <td>0.0</td>\n",
       "      <td>1</td>\n",
       "      <td>0.000000</td>\n",
       "      <td>0.20</td>\n",
       "      <td>0.20</td>\n",
       "      <td>0.0</td>\n",
       "      <td>0.0</td>\n",
       "      <td>Feb</td>\n",
       "      <td>1</td>\n",
       "      <td>1</td>\n",
       "      <td>1</td>\n",
       "      <td>1</td>\n",
       "      <td>Returning_Visitor</td>\n",
       "      <td>False</td>\n",
       "      <td>False</td>\n",
       "    </tr>\n",
       "    <tr>\n",
       "      <th>1</th>\n",
       "      <td>0</td>\n",
       "      <td>0.0</td>\n",
       "      <td>0</td>\n",
       "      <td>0.0</td>\n",
       "      <td>2</td>\n",
       "      <td>64.000000</td>\n",
       "      <td>0.00</td>\n",
       "      <td>0.10</td>\n",
       "      <td>0.0</td>\n",
       "      <td>0.0</td>\n",
       "      <td>Feb</td>\n",
       "      <td>2</td>\n",
       "      <td>2</td>\n",
       "      <td>1</td>\n",
       "      <td>2</td>\n",
       "      <td>Returning_Visitor</td>\n",
       "      <td>False</td>\n",
       "      <td>False</td>\n",
       "    </tr>\n",
       "    <tr>\n",
       "      <th>2</th>\n",
       "      <td>0</td>\n",
       "      <td>0.0</td>\n",
       "      <td>0</td>\n",
       "      <td>0.0</td>\n",
       "      <td>1</td>\n",
       "      <td>0.000000</td>\n",
       "      <td>0.20</td>\n",
       "      <td>0.20</td>\n",
       "      <td>0.0</td>\n",
       "      <td>0.0</td>\n",
       "      <td>Feb</td>\n",
       "      <td>4</td>\n",
       "      <td>1</td>\n",
       "      <td>9</td>\n",
       "      <td>3</td>\n",
       "      <td>Returning_Visitor</td>\n",
       "      <td>False</td>\n",
       "      <td>False</td>\n",
       "    </tr>\n",
       "    <tr>\n",
       "      <th>3</th>\n",
       "      <td>0</td>\n",
       "      <td>0.0</td>\n",
       "      <td>0</td>\n",
       "      <td>0.0</td>\n",
       "      <td>2</td>\n",
       "      <td>2.666667</td>\n",
       "      <td>0.05</td>\n",
       "      <td>0.14</td>\n",
       "      <td>0.0</td>\n",
       "      <td>0.0</td>\n",
       "      <td>Feb</td>\n",
       "      <td>3</td>\n",
       "      <td>2</td>\n",
       "      <td>2</td>\n",
       "      <td>4</td>\n",
       "      <td>Returning_Visitor</td>\n",
       "      <td>False</td>\n",
       "      <td>False</td>\n",
       "    </tr>\n",
       "    <tr>\n",
       "      <th>4</th>\n",
       "      <td>0</td>\n",
       "      <td>0.0</td>\n",
       "      <td>0</td>\n",
       "      <td>0.0</td>\n",
       "      <td>10</td>\n",
       "      <td>627.500000</td>\n",
       "      <td>0.02</td>\n",
       "      <td>0.05</td>\n",
       "      <td>0.0</td>\n",
       "      <td>0.0</td>\n",
       "      <td>Feb</td>\n",
       "      <td>3</td>\n",
       "      <td>3</td>\n",
       "      <td>1</td>\n",
       "      <td>4</td>\n",
       "      <td>Returning_Visitor</td>\n",
       "      <td>True</td>\n",
       "      <td>False</td>\n",
       "    </tr>\n",
       "  </tbody>\n",
       "</table>\n",
       "</div>"
      ],
      "text/plain": [
       "   Administrative  Administrative_Duration  Informational  \\\n",
       "0               0                      0.0              0   \n",
       "1               0                      0.0              0   \n",
       "2               0                      0.0              0   \n",
       "3               0                      0.0              0   \n",
       "4               0                      0.0              0   \n",
       "\n",
       "   Informational_Duration  ProductRelated  ProductRelated_Duration  \\\n",
       "0                     0.0               1                 0.000000   \n",
       "1                     0.0               2                64.000000   \n",
       "2                     0.0               1                 0.000000   \n",
       "3                     0.0               2                 2.666667   \n",
       "4                     0.0              10               627.500000   \n",
       "\n",
       "   BounceRates  ExitRates  PageValues  SpecialDay Month  OperatingSystems  \\\n",
       "0         0.20       0.20         0.0         0.0   Feb                 1   \n",
       "1         0.00       0.10         0.0         0.0   Feb                 2   \n",
       "2         0.20       0.20         0.0         0.0   Feb                 4   \n",
       "3         0.05       0.14         0.0         0.0   Feb                 3   \n",
       "4         0.02       0.05         0.0         0.0   Feb                 3   \n",
       "\n",
       "   Browser  Region  TrafficType        VisitorType  Weekend  Revenue  \n",
       "0        1       1            1  Returning_Visitor    False    False  \n",
       "1        2       1            2  Returning_Visitor    False    False  \n",
       "2        1       9            3  Returning_Visitor    False    False  \n",
       "3        2       2            4  Returning_Visitor    False    False  \n",
       "4        3       1            4  Returning_Visitor     True    False  "
      ]
     },
     "execution_count": 3,
     "metadata": {},
     "output_type": "execute_result"
    }
   ],
   "source": [
    "df.head()"
   ]
  },
  {
   "cell_type": "code",
   "execution_count": 4,
   "id": "e3b12033",
   "metadata": {},
   "outputs": [
    {
     "data": {
      "text/plain": [
       "Index(['Administrative', 'Administrative_Duration', 'Informational',\n",
       "       'Informational_Duration', 'ProductRelated', 'ProductRelated_Duration',\n",
       "       'BounceRates', 'ExitRates', 'PageValues', 'SpecialDay', 'Month',\n",
       "       'OperatingSystems', 'Browser', 'Region', 'TrafficType', 'VisitorType',\n",
       "       'Weekend', 'Revenue'],\n",
       "      dtype='object')"
      ]
     },
     "execution_count": 4,
     "metadata": {},
     "output_type": "execute_result"
    }
   ],
   "source": [
    "df.columns"
   ]
  },
  {
   "cell_type": "code",
   "execution_count": 5,
   "id": "e2a6fc92",
   "metadata": {},
   "outputs": [
    {
     "data": {
      "text/plain": [
       "(12330, 18)"
      ]
     },
     "execution_count": 5,
     "metadata": {},
     "output_type": "execute_result"
    }
   ],
   "source": [
    "df.shape"
   ]
  },
  {
   "cell_type": "code",
   "execution_count": 6,
   "id": "4786b777",
   "metadata": {
    "scrolled": true
   },
   "outputs": [
    {
     "data": {
      "text/plain": [
       "Administrative               27\n",
       "Administrative_Duration    3335\n",
       "Informational                17\n",
       "Informational_Duration     1258\n",
       "ProductRelated              311\n",
       "ProductRelated_Duration    9551\n",
       "BounceRates                1872\n",
       "ExitRates                  4777\n",
       "PageValues                 2704\n",
       "SpecialDay                    6\n",
       "Month                        10\n",
       "OperatingSystems              8\n",
       "Browser                      13\n",
       "Region                        9\n",
       "TrafficType                  20\n",
       "VisitorType                   3\n",
       "Weekend                       2\n",
       "Revenue                       2\n",
       "dtype: int64"
      ]
     },
     "execution_count": 6,
     "metadata": {},
     "output_type": "execute_result"
    }
   ],
   "source": [
    "df.nunique()"
   ]
  },
  {
   "cell_type": "code",
   "execution_count": 7,
   "id": "a72318a9",
   "metadata": {
    "scrolled": true
   },
   "outputs": [
    {
     "data": {
      "text/plain": [
       "Administrative               int64\n",
       "Administrative_Duration    float64\n",
       "Informational                int64\n",
       "Informational_Duration     float64\n",
       "ProductRelated               int64\n",
       "ProductRelated_Duration    float64\n",
       "BounceRates                float64\n",
       "ExitRates                  float64\n",
       "PageValues                 float64\n",
       "SpecialDay                 float64\n",
       "Month                       object\n",
       "OperatingSystems             int64\n",
       "Browser                      int64\n",
       "Region                       int64\n",
       "TrafficType                  int64\n",
       "VisitorType                 object\n",
       "Weekend                       bool\n",
       "Revenue                       bool\n",
       "dtype: object"
      ]
     },
     "execution_count": 7,
     "metadata": {},
     "output_type": "execute_result"
    }
   ],
   "source": [
    "df.dtypes"
   ]
  },
  {
   "cell_type": "markdown",
   "id": "87c1e48f",
   "metadata": {},
   "source": [
    "Every columns is numeric except '"
   ]
  },
  {
   "cell_type": "markdown",
   "id": "a2e89c13",
   "metadata": {},
   "source": [
    "## EDA"
   ]
  },
  {
   "cell_type": "markdown",
   "id": "1581f962",
   "metadata": {},
   "source": [
    "#### 1. Univariate Analysis\n",
    "- we are going to analyse each variable."
   ]
  },
  {
   "cell_type": "markdown",
   "id": "0d55a92e",
   "metadata": {},
   "source": [
    "##### 1.1. Revenue \n",
    "- target variable"
   ]
  },
  {
   "cell_type": "code",
   "execution_count": 8,
   "id": "389f2d16",
   "metadata": {},
   "outputs": [],
   "source": [
    "import warnings\n",
    "warnings.filterwarnings('ignore')"
   ]
  },
  {
   "cell_type": "code",
   "execution_count": 9,
   "id": "54d057d3",
   "metadata": {},
   "outputs": [
    {
     "name": "stdout",
     "output_type": "stream",
     "text": [
      "The unique values in column Revenue:\n",
      " False    10422\n",
      "True      1908\n",
      "Name: Revenue, dtype: int64\n"
     ]
    },
    {
     "data": {
      "image/png": "[encoded data removed]",
      "text/plain": [
       "<Figure size 432x288 with 1 Axes>"
      ]
     },
     "metadata": {
      "needs_background": "light"
     },
     "output_type": "display_data"
    }
   ],
   "source": [
    "# checking the unique values\n",
    "revenue = df['Revenue'].value_counts()\n",
    "print(\"The unique values in column Revenue:\\n\",revenue)\n",
    "# plotting the distribution\n",
    "sns.distplot(df['Revenue'])\n",
    "plt.show()"
   ]
  },
  {
   "cell_type": "markdown",
   "id": "590b02dc",
   "metadata": {},
   "source": [
    "- This indicates that the data is highly imbalanced."
   ]
  },
  {
   "cell_type": "markdown",
   "id": "77705031",
   "metadata": {},
   "source": [
    "##### 1.2. Weekend"
   ]
  },
  {
   "cell_type": "code",
   "execution_count": 10,
   "id": "f1c79fa8",
   "metadata": {},
   "outputs": [
    {
     "name": "stdout",
     "output_type": "stream",
     "text": [
      "Unique values in column Weekend:\n",
      " False    9462\n",
      "True     2868\n",
      "Name: Weekend, dtype: int64\n"
     ]
    },
    {
     "data": {
      "image/png": "[encoded data removed]",
      "text/plain": [
       "<Figure size 432x288 with 1 Axes>"
      ]
     },
     "metadata": {
      "needs_background": "light"
     },
     "output_type": "display_data"
    }
   ],
   "source": [
    "# checking the unique values\n",
    "week = df['Weekend'].value_counts()\n",
    "print(\"Unique values in column Weekend:\\n\",week)\n",
    "# plotting the distribution \n",
    "sns.distplot(df['Weekend'])\n",
    "plt.show()"
   ]
  },
  {
   "cell_type": "markdown",
   "id": "7bc64347",
   "metadata": {},
   "source": [
    "- The data is imbalanced in this column as well."
   ]
  },
  {
   "cell_type": "markdown",
   "id": "5417d464",
   "metadata": {},
   "source": [
    "##### 1.3. Browsers"
   ]
  },
  {
   "cell_type": "code",
   "execution_count": 11,
   "id": "3331ba50",
   "metadata": {
    "scrolled": false
   },
   "outputs": [
    {
     "name": "stdout",
     "output_type": "stream",
     "text": [
      "Unqiue values of column Browser:\n",
      " 2     7961\n",
      "1     2462\n",
      "4      736\n",
      "5      467\n",
      "6      174\n",
      "10     163\n",
      "8      135\n",
      "3      105\n",
      "13      61\n",
      "7       49\n",
      "12      10\n",
      "11       6\n",
      "9        1\n",
      "Name: Browser, dtype: int64\n"
     ]
    },
    {
     "data": {
      "image/png": "[encoded data removed]",
      "text/plain": [
       "<Figure size 432x288 with 1 Axes>"
      ]
     },
     "metadata": {
      "needs_background": "light"
     },
     "output_type": "display_data"
    }
   ],
   "source": [
    "# checking the unique values\n",
    "browser = df['Browser'].value_counts()\n",
    "print(\"Unqiue values of column Browser:\\n\",browser)\n",
    "# plotting the distribution\n",
    "sns.countplot(x=df['Browser'], data=df, palette='hls')\n",
    "plt.show()"
   ]
  },
  {
   "cell_type": "markdown",
   "id": "10244ffe",
   "metadata": {},
   "source": [
    "- The plot above indicates that 90% of the user are in top 3 browesers."
   ]
  },
  {
   "cell_type": "markdown",
   "id": "f0818f82",
   "metadata": {},
   "source": [
    "##### 1.4. Operating Systems\n"
   ]
  },
  {
   "cell_type": "code",
   "execution_count": 12,
   "id": "65db3fa5",
   "metadata": {},
   "outputs": [
    {
     "name": "stdout",
     "output_type": "stream",
     "text": [
      "Unique values column in Operating Systems:\n",
      " 2    6601\n",
      "1    2585\n",
      "3    2555\n",
      "4     478\n",
      "8      79\n",
      "6      19\n",
      "7       7\n",
      "5       6\n",
      "Name: OperatingSystems, dtype: int64\n"
     ]
    },
    {
     "data": {
      "image/png": "[encoded data removed]",
      "text/plain": [
       "<Figure size 432x288 with 1 Axes>"
      ]
     },
     "metadata": {
      "needs_background": "light"
     },
     "output_type": "display_data"
    }
   ],
   "source": [
    "# checking the unique values\n",
    "os = df['OperatingSystems'].value_counts()\n",
    "print(\"Unique values column in Operating Systems:\\n\",os)\n",
    "# plotting the distribution of each unique value\n",
    "sns.countplot(x=df['OperatingSystems'], data=df, palette='hls')\n",
    "plt.show()\n"
   ]
  },
  {
   "cell_type": "markdown",
   "id": "99f69622",
   "metadata": {},
   "source": [
    "- This indicates that the top 3 columns cover 90% of the dataset."
   ]
  },
  {
   "cell_type": "markdown",
   "id": "769b2e9e",
   "metadata": {},
   "source": [
    "##### 1.5. Month "
   ]
  },
  {
   "cell_type": "code",
   "execution_count": 13,
   "id": "e1118c37",
   "metadata": {},
   "outputs": [
    {
     "name": "stdout",
     "output_type": "stream",
     "text": [
      "Unique values column in Month:\n",
      " May     3364\n",
      "Nov     2998\n",
      "Mar     1907\n",
      "Dec     1727\n",
      "Oct      549\n",
      "Sep      448\n",
      "Aug      433\n",
      "Jul      432\n",
      "June     288\n",
      "Feb      184\n",
      "Name: Month, dtype: int64\n"
     ]
    },
    {
     "data": {
      "image/png": "[encoded data removed]",
      "text/plain": [
       "<Figure size 432x288 with 1 Axes>"
      ]
     },
     "metadata": {
      "needs_background": "light"
     },
     "output_type": "display_data"
    }
   ],
   "source": [
    "# checking the unique values\n",
    "month = df['Month'].value_counts()\n",
    "print(\"Unique values column in Month:\\n\",month )\n",
    "# plotting the distribution of each unique value\n",
    "sns.countplot(x=df['Month'], data=df, palette='hls')\n",
    "plt.show()\n"
   ]
  },
  {
   "cell_type": "markdown",
   "id": "ffe02c3a",
   "metadata": {},
   "source": [
    "- May and Nov are the peak shopping months."
   ]
  },
  {
   "cell_type": "markdown",
   "id": "81d03aa9",
   "metadata": {},
   "source": [
    "##### 1.6. Visitor Type"
   ]
  },
  {
   "cell_type": "code",
   "execution_count": 14,
   "id": "e4b45101",
   "metadata": {},
   "outputs": [
    {
     "name": "stdout",
     "output_type": "stream",
     "text": [
      "Unique values column in Visitor Month:\n",
      " Returning_Visitor    10551\n",
      "New_Visitor           1694\n",
      "Other                   85\n",
      "Name: VisitorType, dtype: int64\n"
     ]
    },
    {
     "data": {
      "image/png": "[encoded data removed]",
      "text/plain": [
       "<Figure size 432x288 with 1 Axes>"
      ]
     },
     "metadata": {
      "needs_background": "light"
     },
     "output_type": "display_data"
    }
   ],
   "source": [
    "# checking the unique values\n",
    "vmonth = df['VisitorType'].value_counts()\n",
    "print(\"Unique values column in Visitor Month:\\n\",vmonth )\n",
    "# plotting the distribution of each unique value\n",
    "sns.countplot(x=df['VisitorType'], data=df, palette='hls')\n",
    "plt.show()\n"
   ]
  },
  {
   "cell_type": "markdown",
   "id": "90061ddd",
   "metadata": {},
   "source": [
    "- The plot above indicates that more than 80% are the returning visitors."
   ]
  },
  {
   "cell_type": "markdown",
   "id": "085b1309",
   "metadata": {},
   "source": [
    "##### 1.7. Traffic Type"
   ]
  },
  {
   "cell_type": "code",
   "execution_count": 15,
   "id": "c87d7bbd",
   "metadata": {},
   "outputs": [
    {
     "name": "stdout",
     "output_type": "stream",
     "text": [
      "Unique values column in Traffic Type:\n",
      " 2     3913\n",
      "1     2451\n",
      "3     2052\n",
      "4     1069\n",
      "13     738\n",
      "10     450\n",
      "6      444\n",
      "8      343\n",
      "5      260\n",
      "11     247\n",
      "20     198\n",
      "9       42\n",
      "7       40\n",
      "15      38\n",
      "19      17\n",
      "14      13\n",
      "18      10\n",
      "16       3\n",
      "12       1\n",
      "17       1\n",
      "Name: TrafficType, dtype: int64\n"
     ]
    },
    {
     "data": {
      "image/png": "[encoded data removed]",
      "text/plain": [
       "<Figure size 432x288 with 1 Axes>"
      ]
     },
     "metadata": {
      "needs_background": "light"
     },
     "output_type": "display_data"
    }
   ],
   "source": [
    "# checking the unique values\n",
    "tt = df['TrafficType'].value_counts()\n",
    "print(\"Unique values column in Traffic Type:\\n\",tt )\n",
    "# plotting the distribution of each unique value\n",
    "sns.distplot(df['TrafficType'])\n",
    "plt.show()\n"
   ]
  },
  {
   "cell_type": "markdown",
   "id": "ac368d1c",
   "metadata": {},
   "source": [
    "- The plot indicates that there are 20 different types of traffic codes.\n",
    "- The traffic type is normally distributed."
   ]
  },
  {
   "cell_type": "markdown",
   "id": "71a242f2",
   "metadata": {},
   "source": [
    "##### 1.8. Region "
   ]
  },
  {
   "cell_type": "code",
   "execution_count": 16,
   "id": "b8c83ad3",
   "metadata": {},
   "outputs": [
    {
     "name": "stdout",
     "output_type": "stream",
     "text": [
      "Unique values column in Region:\n",
      " 1    4780\n",
      "3    2403\n",
      "4    1182\n",
      "2    1136\n",
      "6     805\n",
      "7     761\n",
      "9     511\n",
      "8     434\n",
      "5     318\n",
      "Name: Region, dtype: int64\n"
     ]
    },
    {
     "data": {
      "image/png": "[encoded data removed]",
      "text/plain": [
       "<Figure size 432x288 with 1 Axes>"
      ]
     },
     "metadata": {
      "needs_background": "light"
     },
     "output_type": "display_data"
    }
   ],
   "source": [
    "# checking the unique values\n",
    "region = df['Region'].value_counts()\n",
    "print(\"Unique values column in Region:\\n\",region )\n",
    "# plotting the distribution of each unique value\n",
    "sns.countplot(x=df['Region'], data=df, palette='hls')\n",
    "plt.show()"
   ]
  },
  {
   "cell_type": "markdown",
   "id": "8ec4161f",
   "metadata": {},
   "source": [
    "- The plot indicates that there are different types of users with respect to the region.\n",
    "- There are 9 different region codes.\n",
    "- This columns is not normally distributed."
   ]
  },
  {
   "cell_type": "markdown",
   "id": "322e1a40",
   "metadata": {},
   "source": [
    "##### 1.9. Special Day"
   ]
  },
  {
   "cell_type": "code",
   "execution_count": 17,
   "id": "88c94e71",
   "metadata": {
    "scrolled": false
   },
   "outputs": [
    {
     "name": "stdout",
     "output_type": "stream",
     "text": [
      "Unique values column in Special Day:\n",
      " 0.0    11079\n",
      "0.6      351\n",
      "0.8      325\n",
      "0.4      243\n",
      "0.2      178\n",
      "1.0      154\n",
      "Name: SpecialDay, dtype: int64\n"
     ]
    },
    {
     "data": {
      "image/png": "[encoded data removed]",
      "text/plain": [
       "<Figure size 432x288 with 1 Axes>"
      ]
     },
     "metadata": {
      "needs_background": "light"
     },
     "output_type": "display_data"
    }
   ],
   "source": [
    "# checking the unique values\n",
    "special = df['SpecialDay'].value_counts()\n",
    "print(\"Unique values column in Special Day:\\n\",special )\n",
    "# plotting the distribution of each unique value\n",
    "sns.countplot(x=df['SpecialDay'], data=df, palette='hls')\n",
    "plt.show()"
   ]
  },
  {
   "cell_type": "code",
   "execution_count": 18,
   "id": "9161d5ca",
   "metadata": {},
   "outputs": [
    {
     "data": {
      "image/png": "[encoded data removed]",
      "text/plain": [
       "<Figure size 2160x2160 with 11 Axes>"
      ]
     },
     "metadata": {
      "needs_background": "light"
     },
     "output_type": "display_data"
    }
   ],
   "source": [
    "column1l=['Administrative','Informational','ProductRelated','SpecialDay','OperatingSystems','Browser','Region','TrafficType','Month','VisitorType','Weekend']    \n",
    "plt.figure(figsize=(30,30))\n",
    "plot_number = 0\n",
    "for i in column1l:\n",
    "    plot_number = plot_number + 1\n",
    "    ax = plt.subplot(6, 2, plot_number,adjustable='datalim')\n",
    "    sns.countplot(df[i],hue=df['Revenue'])\n",
    "    ax.set_title('Customers adding Revenue based on '+ i,fontdict=None)\n",
    "    plt.tight_layout()"
   ]
  },
  {
   "cell_type": "markdown",
   "id": "0af21d94",
   "metadata": {},
   "source": [
    "#### 2. Bi-variate Analysis\n",
    "- comparing each variable with respect to the target variable i.e., Revenue"
   ]
  },
  {
   "cell_type": "code",
   "execution_count": 19,
   "id": "9a12a258",
   "metadata": {},
   "outputs": [],
   "source": [
    "import plotly\n",
    "import plotly.graph_objs as go\n",
    "# importing plotly library\n",
    "import plotly.graph_objects as go\n",
    "import plotly.express as px\n",
    "import plotly.io as pio\n",
    "pio.renderers.default = \"browser\"\n"
   ]
  },
  {
   "cell_type": "markdown",
   "id": "b5e2c70a",
   "metadata": {},
   "source": [
    "##### 2.1. Administrative vs Revenue."
   ]
  },
  {
   "cell_type": "code",
   "execution_count": 20,
   "id": "457e49ab",
   "metadata": {},
   "outputs": [],
   "source": [
    "# boxplot Administrative duration vs Revenue\n",
    "fig = px.box(df, x='Administrative', y='Revenue', color='Revenue')\n",
    "fig.show()\n"
   ]
  },
  {
   "cell_type": "markdown",
   "id": "56a89a05",
   "metadata": {},
   "source": [
    "1. Exponentially distributed for both.\n",
    "2. Outliers"
   ]
  },
  {
   "cell_type": "markdown",
   "id": "ddea12b5",
   "metadata": {},
   "source": [
    "##### 2.2. Information duration vs Revenue\n"
   ]
  },
  {
   "cell_type": "code",
   "execution_count": 21,
   "id": "76b2f29c",
   "metadata": {},
   "outputs": [],
   "source": [
    "# boxplot Informational duration vs Revenue\n",
    "fig = px.box(df, x='Informational_Duration', y='Revenue', color='Revenue')\n",
    "fig.show()\n"
   ]
  },
  {
   "cell_type": "markdown",
   "id": "9f8fb377",
   "metadata": {},
   "source": [
    "- outliers in not purchased (false) \n",
    "- information duration is exponentiallu distributes for both true and false\n"
   ]
  },
  {
   "cell_type": "markdown",
   "id": "69d725b9",
   "metadata": {},
   "source": [
    "##### 2.3. Product Related duration vs Revenue"
   ]
  },
  {
   "cell_type": "code",
   "execution_count": 22,
   "id": "8db07014",
   "metadata": {},
   "outputs": [],
   "source": [
    "# boxplot Product Related duration vs Revenue\n",
    "fig = px.box(df, x='ProductRelated_Duration', y='Revenue', color='Revenue')\n",
    "fig.show()"
   ]
  },
  {
   "cell_type": "markdown",
   "id": "7ef18eb1",
   "metadata": {},
   "source": [
    "- again ProductRelatedDuration is exponentially distributed for both true and false.\n",
    "- outliers in false."
   ]
  },
  {
   "cell_type": "markdown",
   "id": "e0670130",
   "metadata": {},
   "source": [
    "##### 2.4. Exit Rates vs Revenue"
   ]
  },
  {
   "cell_type": "code",
   "execution_count": 23,
   "id": "de0881ef",
   "metadata": {},
   "outputs": [],
   "source": [
    "# boxplot ExitRates vs Revenue\n",
    "fig = px.box(df, x='ExitRates', y='Revenue', color='Revenue')\n",
    "fig.show()"
   ]
  },
  {
   "cell_type": "markdown",
   "id": "b5f52ac7",
   "metadata": {},
   "source": [
    "##### 2.5. Page values vs revenue"
   ]
  },
  {
   "cell_type": "code",
   "execution_count": 24,
   "id": "9b0f6e9f",
   "metadata": {},
   "outputs": [],
   "source": [
    "fig = plotly.express.strip(df,x='PageValues',y='Revenue',color='Revenue')\n",
    "fig.show()"
   ]
  },
  {
   "cell_type": "markdown",
   "id": "60b61aa1",
   "metadata": {},
   "source": [
    "-  PageValue is exponentially distributed for both true and false\n",
    "- outliers in purchased (true) according to ExitRates\n",
    "- PageValues are highly influences to purchased(True) a product."
   ]
  },
  {
   "cell_type": "markdown",
   "id": "b496009c",
   "metadata": {},
   "source": [
    "##### 2.6. Bounce Rates vs Revenue"
   ]
  },
  {
   "cell_type": "code",
   "execution_count": 25,
   "id": "571fb906",
   "metadata": {},
   "outputs": [],
   "source": [
    "fig = plotly.express.strip(df,x='BounceRates',y='Revenue',color='Revenue')\n",
    "fig.show()"
   ]
  },
  {
   "cell_type": "markdown",
   "id": "9ef4379b",
   "metadata": {},
   "source": [
    "- expintentially distributed for both the columns\n",
    "- outliers in false\n",
    "- highly influenced to buy a product or not"
   ]
  },
  {
   "cell_type": "markdown",
   "id": "60969571",
   "metadata": {},
   "source": [
    "##### 2.7. Weekend vs Revenue\n"
   ]
  },
  {
   "cell_type": "code",
   "execution_count": 26,
   "id": "35e54413",
   "metadata": {},
   "outputs": [
    {
     "data": {
      "image/png": "[encoded data removed]",
      "text/plain": [
       "<Figure size 1080x360 with 1 Axes>"
      ]
     },
     "metadata": {
      "needs_background": "light"
     },
     "output_type": "display_data"
    }
   ],
   "source": [
    "# bar plot for weekend vs Revenue\n",
    "df1 = pd.crosstab(df['Weekend'], df['Revenue'])\n",
    "df1.div(df1.sum(1).astype(float), axis = 0).plot(kind = 'bar', stacked = True, figsize = (15, 5), color = ['blue', 'cyan'])\n",
    "plt.title('Weekend vs Revenue', fontsize = 30)\n",
    "plt.show()"
   ]
  },
  {
   "cell_type": "markdown",
   "id": "cb59fe9c",
   "metadata": {},
   "source": [
    "##### 2.8. Traffic Type vs Revenue"
   ]
  },
  {
   "cell_type": "code",
   "execution_count": 27,
   "id": "c537d9b6",
   "metadata": {},
   "outputs": [
    {
     "data": {
      "image/png": "[encoded data removed]",
      "text/plain": [
       "<Figure size 1080x360 with 1 Axes>"
      ]
     },
     "metadata": {
      "needs_background": "light"
     },
     "output_type": "display_data"
    }
   ],
   "source": [
    "df1 = pd.crosstab(df['TrafficType'], df['Revenue'])\n",
    "df1.div(df1.sum(1).astype(float), axis = 0).plot(kind = 'bar', stacked = True, figsize = (15, 5), color = ['lightblue', 'blue'])\n",
    "plt.title('Traffic Type as Revenue', fontsize = 30)\n",
    "plt.show()"
   ]
  },
  {
   "cell_type": "markdown",
   "id": "d0b28ef8",
   "metadata": {},
   "source": [
    "- the category (2,7,16,20) are highly influenced to buy a product"
   ]
  },
  {
   "cell_type": "markdown",
   "id": "d3f78474",
   "metadata": {},
   "source": [
    "##### 2.9. Visitor type vs revenue"
   ]
  },
  {
   "cell_type": "code",
   "execution_count": 28,
   "id": "f5388607",
   "metadata": {},
   "outputs": [
    {
     "data": {
      "image/png": "[encoded data removed]",
      "text/plain": [
       "<Figure size 1080x360 with 1 Axes>"
      ]
     },
     "metadata": {
      "needs_background": "light"
     },
     "output_type": "display_data"
    }
   ],
   "source": [
    "# bar plot for visitor type vs revenue\n",
    "df1 = pd.crosstab(df['VisitorType'], df['Revenue'])\n",
    "df1.div(df1.sum(1).astype(float), axis=0).plot(kind = 'bar', stacked = True, figsize =(15, 5), color = ['lightblue', 'blue'])\n",
    "plt.title('Visitor Type vs Revenue', fontsize = 30)\n",
    "plt.show()"
   ]
  },
  {
   "cell_type": "markdown",
   "id": "a85679c5",
   "metadata": {},
   "source": [
    "##### 2.10. Region vs Revenue"
   ]
  },
  {
   "cell_type": "code",
   "execution_count": 29,
   "id": "408aafbf",
   "metadata": {},
   "outputs": [
    {
     "data": {
      "image/png": "[encoded data removed]",
      "text/plain": [
       "<Figure size 1080x360 with 1 Axes>"
      ]
     },
     "metadata": {
      "needs_background": "light"
     },
     "output_type": "display_data"
    }
   ],
   "source": [
    "# bar plot for visitor type vs revenue\n",
    "df1 = pd.crosstab(df['Region'], df['Revenue'])\n",
    "df1.div(df1.sum(1).astype(float), axis=0).plot(kind = 'bar', stacked = True, figsize =(15, 5), color = ['lightblue', 'blue'])\n",
    "plt.title('Region vs Revenue', fontsize = 30)\n",
    "plt.show()"
   ]
  },
  {
   "cell_type": "markdown",
   "id": "ff259680",
   "metadata": {},
   "source": [
    "#### 3. Multi-variate Analysis"
   ]
  },
  {
   "cell_type": "markdown",
   "id": "70a94346",
   "metadata": {},
   "source": [
    "##### 3.1. Month vs PageValues wrt Revenue"
   ]
  },
  {
   "cell_type": "code",
   "execution_count": 30,
   "id": "f015e932",
   "metadata": {},
   "outputs": [],
   "source": [
    "fig = px.box(df, x='Month', y='PageValues', color='Revenue')\n",
    "fig.show()"
   ]
  },
  {
   "cell_type": "markdown",
   "id": "af1b8451",
   "metadata": {},
   "source": [
    "- normally distributed\n",
    "- outliers"
   ]
  },
  {
   "cell_type": "markdown",
   "id": "222d9aae",
   "metadata": {},
   "source": [
    "##### 3.2. Month vs ExitRates wrt Revenue"
   ]
  },
  {
   "cell_type": "code",
   "execution_count": 31,
   "id": "f63f82bd",
   "metadata": {},
   "outputs": [],
   "source": [
    "fig = px.box(df, x='Month', y='ExitRates', color='Revenue')\n",
    "fig.show()"
   ]
  },
  {
   "cell_type": "markdown",
   "id": "2d8f5549",
   "metadata": {},
   "source": [
    "##### 3.3. Month vs BounceRates wrt Revenue"
   ]
  },
  {
   "cell_type": "code",
   "execution_count": 32,
   "id": "9e74216a",
   "metadata": {},
   "outputs": [],
   "source": [
    "fig = px.box(df, x='Month', y='BounceRates', color='Revenue')\n",
    "fig.show()"
   ]
  },
  {
   "cell_type": "markdown",
   "id": "43b010bd",
   "metadata": {},
   "source": [
    "##### 3.4. VisitorType vs BounceRates w.r.t. revenue\n"
   ]
  },
  {
   "cell_type": "code",
   "execution_count": 33,
   "id": "717e81ba",
   "metadata": {},
   "outputs": [],
   "source": [
    "fig = px.violin(df, x='VisitorType', y='BounceRates', color='Revenue')\n",
    "fig.show()"
   ]
  },
  {
   "cell_type": "markdown",
   "id": "ff94ef43",
   "metadata": {},
   "source": [
    "##### 3.5. visitor type vs exit rates w.r.t. revenue"
   ]
  },
  {
   "cell_type": "code",
   "execution_count": 34,
   "id": "d79186eb",
   "metadata": {},
   "outputs": [],
   "source": [
    "fig = px.violin(df, x='VisitorType', y='ExitRates', color='Revenue')\n",
    "fig.show()"
   ]
  },
  {
   "cell_type": "markdown",
   "id": "102c8ad0",
   "metadata": {},
   "source": [
    "##### 3.6. region vs pagevalues w.r.t. revenue"
   ]
  },
  {
   "cell_type": "code",
   "execution_count": 35,
   "id": "713a1437",
   "metadata": {},
   "outputs": [],
   "source": [
    "fig = px.violin(df, x='Region', y='PageValues', color='Revenue')\n",
    "fig.show()"
   ]
  },
  {
   "cell_type": "markdown",
   "id": "0ebe0c17",
   "metadata": {},
   "source": [
    "##### 3.7. region vs exit rates w.r.t revenue"
   ]
  },
  {
   "cell_type": "code",
   "execution_count": 36,
   "id": "4daa574e",
   "metadata": {},
   "outputs": [],
   "source": [
    "fig = px.violin(df, x='Region', y='ExitRates', color='Revenue')\n",
    "fig.show()"
   ]
  },
  {
   "cell_type": "markdown",
   "id": "91e51dad",
   "metadata": {},
   "source": [
    "##### Summary Table"
   ]
  },
  {
   "cell_type": "code",
   "execution_count": 37,
   "id": "cb8031d5",
   "metadata": {},
   "outputs": [
    {
     "data": {
      "text/html": [
       "<div>\n",
       "<style scoped>\n",
       "    .dataframe tbody tr th:only-of-type {\n",
       "        vertical-align: middle;\n",
       "    }\n",
       "\n",
       "    .dataframe tbody tr th {\n",
       "        vertical-align: top;\n",
       "    }\n",
       "\n",
       "    .dataframe thead th {\n",
       "        text-align: right;\n",
       "    }\n",
       "</style>\n",
       "<table border=\"1\" class=\"dataframe\">\n",
       "  <thead>\n",
       "    <tr style=\"text-align: right;\">\n",
       "      <th></th>\n",
       "      <th>Features</th>\n",
       "      <th>w.r.t</th>\n",
       "      <th>Distribution</th>\n",
       "      <th>Revenue_True</th>\n",
       "      <th>Revenue_False</th>\n",
       "      <th>Outliers</th>\n",
       "      <th>Importance</th>\n",
       "    </tr>\n",
       "  </thead>\n",
       "  <tbody>\n",
       "    <tr>\n",
       "      <th>0</th>\n",
       "      <td>month vs pagevalues</td>\n",
       "      <td>Revenue</td>\n",
       "      <td>Gaussian</td>\n",
       "      <td>High</td>\n",
       "      <td>Low</td>\n",
       "      <td>Low</td>\n",
       "      <td>High</td>\n",
       "    </tr>\n",
       "    <tr>\n",
       "      <th>1</th>\n",
       "      <td>month vs exitrates</td>\n",
       "      <td>Revenue</td>\n",
       "      <td>Gaussian</td>\n",
       "      <td>Low</td>\n",
       "      <td>High</td>\n",
       "      <td>Medium</td>\n",
       "      <td>Medium</td>\n",
       "    </tr>\n",
       "    <tr>\n",
       "      <th>2</th>\n",
       "      <td>month vs bounceRates</td>\n",
       "      <td>Revenue</td>\n",
       "      <td>Gaussian</td>\n",
       "      <td>Low</td>\n",
       "      <td>High</td>\n",
       "      <td>Medium</td>\n",
       "      <td>High</td>\n",
       "    </tr>\n",
       "    <tr>\n",
       "      <th>3</th>\n",
       "      <td>visitor type vs BounceRates</td>\n",
       "      <td>Revenue</td>\n",
       "      <td>Exponential</td>\n",
       "      <td>Low</td>\n",
       "      <td>High</td>\n",
       "      <td>Low</td>\n",
       "      <td>High</td>\n",
       "    </tr>\n",
       "    <tr>\n",
       "      <th>4</th>\n",
       "      <td>visitor type vs exit rates</td>\n",
       "      <td>Revenue</td>\n",
       "      <td>Exponential</td>\n",
       "      <td>Low</td>\n",
       "      <td>High</td>\n",
       "      <td>High</td>\n",
       "      <td>Medium</td>\n",
       "    </tr>\n",
       "    <tr>\n",
       "      <th>5</th>\n",
       "      <td>region vs pagevalues</td>\n",
       "      <td>Revenue</td>\n",
       "      <td>Exponential</td>\n",
       "      <td>Low</td>\n",
       "      <td>High</td>\n",
       "      <td>High</td>\n",
       "      <td>High</td>\n",
       "    </tr>\n",
       "    <tr>\n",
       "      <th>6</th>\n",
       "      <td>region vs exit rates</td>\n",
       "      <td>Revenue</td>\n",
       "      <td>Gaussian</td>\n",
       "      <td>High</td>\n",
       "      <td>High</td>\n",
       "      <td>High</td>\n",
       "      <td>Medium</td>\n",
       "    </tr>\n",
       "  </tbody>\n",
       "</table>\n",
       "</div>"
      ],
      "text/plain": [
       "                      Features    w.r.t Distribution Revenue_True  \\\n",
       "0          month vs pagevalues  Revenue     Gaussian         High   \n",
       "1           month vs exitrates  Revenue     Gaussian          Low   \n",
       "2         month vs bounceRates  Revenue     Gaussian          Low   \n",
       "3  visitor type vs BounceRates  Revenue  Exponential          Low   \n",
       "4   visitor type vs exit rates  Revenue  Exponential          Low   \n",
       "5         region vs pagevalues  Revenue  Exponential          Low   \n",
       "6         region vs exit rates  Revenue     Gaussian         High   \n",
       "\n",
       "  Revenue_False Outliers Importance  \n",
       "0           Low      Low       High  \n",
       "1          High   Medium     Medium  \n",
       "2          High   Medium       High  \n",
       "3          High      Low       High  \n",
       "4          High     High     Medium  \n",
       "5          High     High       High  \n",
       "6          High     High     Medium  "
      ]
     },
     "execution_count": 37,
     "metadata": {},
     "output_type": "execute_result"
    }
   ],
   "source": [
    "# summary table of multi variate analysis\n",
    "feature_analysis = [\n",
    "    ['month vs pagevalues', 'Revenue', 'Gaussian', 'High', 'Low', 'Low', 'High'],\n",
    "    ['month vs exitrates' , 'Revenue', 'Gaussian', 'Low', 'High', 'Medium', 'Medium'],\n",
    "    ['month vs bounceRates' , 'Revenue', 'Gaussian', 'Low', 'High', 'Medium', 'High'],\n",
    "    ['visitor type vs BounceRates' , 'Revenue', 'Exponential', 'Low', 'High', 'Low', 'High'],\n",
    "    ['visitor type vs exit rates' , 'Revenue', 'Exponential', 'Low', 'High', 'High', 'Medium'],\n",
    "    ['region vs pagevalues', 'Revenue', 'Exponential', 'Low', 'High', 'High', 'High'],\n",
    "    ['region vs exit rates', 'Revenue', 'Gaussian', 'High', 'High', 'High', 'Medium'] \n",
    "]\n",
    "summary = pd.DataFrame(feature_analysis, columns=['Features', 'w.r.t', 'Distribution', 'Revenue_True', 'Revenue_False', 'Outliers', 'Importance'])\n",
    "summary"
   ]
  },
  {
   "cell_type": "markdown",
   "id": "b0997da5",
   "metadata": {},
   "source": [
    "#### Statistical Test"
   ]
  },
  {
   "cell_type": "markdown",
   "id": "09f8b142",
   "metadata": {},
   "source": [
    "we will performm statistical test in two parts:\n",
    "1. categorical columns vs target column (revenue)\n",
    "2. numerical columns vs target column (revenue)"
   ]
  },
  {
   "cell_type": "code",
   "execution_count": 38,
   "id": "49fa5be3",
   "metadata": {},
   "outputs": [],
   "source": [
    "categoricals =['Administrative','Informational','ProductRelated','Month','OperatingSystems', 'Browser', 'Region', 'TrafficType', 'VisitorType',\n",
    "       'Weekend', 'SpecialDay']"
   ]
  },
  {
   "cell_type": "markdown",
   "id": "7baeee31",
   "metadata": {},
   "source": [
    "#### 1. Categorical columns vs target column (revenue)"
   ]
  },
  {
   "cell_type": "markdown",
   "id": "d0e99077",
   "metadata": {},
   "source": [
    "##### 1.1. Chi-squared test"
   ]
  },
  {
   "cell_type": "markdown",
   "id": "0c4897db",
   "metadata": {},
   "source": [
    "A chi-squared test, also written as χ² test, is a statistical hypothesis test that is valid to perform when the test statistic is chi-squared distributed under the null hypothesis, specifically Pearson's chi-squared test and variants thereof."
   ]
  },
  {
   "cell_type": "markdown",
   "id": "a0e79e81",
   "metadata": {},
   "source": [
    "###### chi2_contingency\n",
    "Chi-square test of independence of variables in a contingency table.\n",
    "\n",
    "This function computes the chi-square statistic and p-value for the hypothesis test of independence of the observed frequencies in the contingency table observed. The expected frequencies are computed based on the marginal sums under the assumption of independence; see scipy.stats.contingency.expected_freq. The number of degrees of freedom is (expressed using numpy functions and attributes):\n",
    "\n",
    "dof = observed.size - sum(observed.shape) + observed.ndim - 1"
   ]
  },
  {
   "cell_type": "code",
   "execution_count": 39,
   "id": "731bc0ad",
   "metadata": {},
   "outputs": [],
   "source": [
    "# importing the libraries\n",
    "#statistics tools\n",
    "import statsmodels.api as sm\n",
    "import scipy.stats as st\n",
    "from scipy.stats import shapiro, mannwhitneyu, chi2_contingency\n",
    "\n",
    "#scikit learn framework\n",
    "from sklearn import metrics\n",
    "from sklearn.model_selection import train_test_split\n",
    "from sklearn import svm\n",
    "from sklearn.naive_bayes import GaussianNB\n",
    "\n",
    "import warnings\n",
    "warnings.filterwarnings('ignore')"
   ]
  },
  {
   "cell_type": "code",
   "execution_count": 40,
   "id": "5085628c",
   "metadata": {},
   "outputs": [],
   "source": [
    "# check wheather Revenue is influenced by categorical column\n",
    "# Null Hypopthesis, H0 = proportion of revenue accross the category is same\n",
    "# Alternative Hypothesis, H1 = proportion of revenue at least in two category is different\n",
    "scol = []\n",
    "spval = []\n",
    "ss = []\n",
    "for n in categoricals:\n",
    "    scol.append(n)\n",
    "    cp = chi2_contingency(pd.crosstab(df[n], df['Revenue']))[1]\n",
    "    spval.append(round(cp, 4))\n",
    "    if cp < 0.05:\n",
    "        # rejects Null Hypothesis\n",
    "        ss.append('*') # significant\n",
    "    else:\n",
    "        # Accept Null Hypothesis\n",
    "        ss.append('**') # not significant"
   ]
  },
  {
   "cell_type": "code",
   "execution_count": 41,
   "id": "23d2e0d5",
   "metadata": {},
   "outputs": [
    {
     "data": {
      "text/html": [
       "<div>\n",
       "<style scoped>\n",
       "    .dataframe tbody tr th:only-of-type {\n",
       "        vertical-align: middle;\n",
       "    }\n",
       "\n",
       "    .dataframe tbody tr th {\n",
       "        vertical-align: top;\n",
       "    }\n",
       "\n",
       "    .dataframe thead th {\n",
       "        text-align: right;\n",
       "    }\n",
       "</style>\n",
       "<table border=\"1\" class=\"dataframe\">\n",
       "  <thead>\n",
       "    <tr style=\"text-align: right;\">\n",
       "      <th></th>\n",
       "      <th>Feature</th>\n",
       "      <th>P-Value</th>\n",
       "      <th>Significance</th>\n",
       "    </tr>\n",
       "  </thead>\n",
       "  <tbody>\n",
       "    <tr>\n",
       "      <th>0</th>\n",
       "      <td>Administrative</td>\n",
       "      <td>0.0000</td>\n",
       "      <td>*</td>\n",
       "    </tr>\n",
       "    <tr>\n",
       "      <th>1</th>\n",
       "      <td>Informational</td>\n",
       "      <td>0.0000</td>\n",
       "      <td>*</td>\n",
       "    </tr>\n",
       "    <tr>\n",
       "      <th>2</th>\n",
       "      <td>ProductRelated</td>\n",
       "      <td>0.0000</td>\n",
       "      <td>*</td>\n",
       "    </tr>\n",
       "    <tr>\n",
       "      <th>3</th>\n",
       "      <td>Month</td>\n",
       "      <td>0.0000</td>\n",
       "      <td>*</td>\n",
       "    </tr>\n",
       "    <tr>\n",
       "      <th>4</th>\n",
       "      <td>OperatingSystems</td>\n",
       "      <td>0.0000</td>\n",
       "      <td>*</td>\n",
       "    </tr>\n",
       "    <tr>\n",
       "      <th>5</th>\n",
       "      <td>Browser</td>\n",
       "      <td>0.0061</td>\n",
       "      <td>*</td>\n",
       "    </tr>\n",
       "    <tr>\n",
       "      <th>6</th>\n",
       "      <td>Region</td>\n",
       "      <td>0.3214</td>\n",
       "      <td>**</td>\n",
       "    </tr>\n",
       "    <tr>\n",
       "      <th>7</th>\n",
       "      <td>TrafficType</td>\n",
       "      <td>0.0000</td>\n",
       "      <td>*</td>\n",
       "    </tr>\n",
       "    <tr>\n",
       "      <th>8</th>\n",
       "      <td>VisitorType</td>\n",
       "      <td>0.0000</td>\n",
       "      <td>*</td>\n",
       "    </tr>\n",
       "    <tr>\n",
       "      <th>9</th>\n",
       "      <td>Weekend</td>\n",
       "      <td>0.0013</td>\n",
       "      <td>*</td>\n",
       "    </tr>\n",
       "    <tr>\n",
       "      <th>10</th>\n",
       "      <td>SpecialDay</td>\n",
       "      <td>0.0000</td>\n",
       "      <td>*</td>\n",
       "    </tr>\n",
       "  </tbody>\n",
       "</table>\n",
       "</div>"
      ],
      "text/plain": [
       "             Feature  P-Value Significance\n",
       "0     Administrative   0.0000            *\n",
       "1      Informational   0.0000            *\n",
       "2     ProductRelated   0.0000            *\n",
       "3              Month   0.0000            *\n",
       "4   OperatingSystems   0.0000            *\n",
       "5            Browser   0.0061            *\n",
       "6             Region   0.3214           **\n",
       "7        TrafficType   0.0000            *\n",
       "8        VisitorType   0.0000            *\n",
       "9            Weekend   0.0013            *\n",
       "10        SpecialDay   0.0000            *"
      ]
     },
     "execution_count": 41,
     "metadata": {},
     "output_type": "execute_result"
    }
   ],
   "source": [
    "pd.DataFrame({'Feature': scol, 'P-Value': spval, 'Significance': ss})"
   ]
  },
  {
   "cell_type": "markdown",
   "id": "7fca2a02",
   "metadata": {},
   "source": [
    "#### 2. numerical columns vs target column (revenue)"
   ]
  },
  {
   "cell_type": "code",
   "execution_count": 42,
   "id": "94c63891",
   "metadata": {},
   "outputs": [],
   "source": [
    "numerical_columns=['Administrative_Duration','Informational_Duration','ProductRelated_Duration','BounceRates', 'ExitRates', 'PageValues']"
   ]
  },
  {
   "cell_type": "markdown",
   "id": "f55b5844",
   "metadata": {},
   "source": [
    "##### Shapiro-Wilk test\n",
    "\n",
    "The null hypothesis for the Shapiro-Wilk test is that a variable is normally distributed in some population. A different way to say the same is that a variable’s values are a simple random sample from a normal distribution. As a rule of thumb, we reject the null hypothesis if p < 0.05."
   ]
  },
  {
   "cell_type": "code",
   "execution_count": 43,
   "id": "f3a59896",
   "metadata": {},
   "outputs": [],
   "source": [
    "# Two-Sample T-test\n",
    "tcol = []\n",
    "tpval = []\n",
    "ts = []\n",
    "for n in numerical_columns:\n",
    "    tcol.append(n)\n",
    "    # splitting into 2 groups(Revenue = True, Revenue = False)\n",
    "    g1 = df[n][df['Revenue'] == False]\n",
    "    g2 = df[n][df['Revenue'] == True]\n",
    "    # Test for normality(Shapiro Test)\n",
    "    # H0: Data is normal\n",
    "    # H1: Data is not normal\n",
    "    # if p < 0.05 --- reject Null Hypothesis\n",
    "    for b in [g1]:\n",
    "        s, p = shapiro(b)\n",
    "    for c in [g2]:\n",
    "        s1, p1 = shapiro(c)\n",
    "    if p > 0.05 or p1 > 0.05:\n",
    "        w, lp = levene(g1, g2)\n",
    "    # If doesn't pass normality or variance test, we do non-parametric Test(mannwhitneyu Test)\n",
    "    if p <= 0.05 or p1 <= 0.05 or lp <= 0.05:\n",
    "        ms, mp = mannwhitneyu(g1, g2)\n",
    "        tpval.append(round(mp, 4))\n",
    "    if mp < 0.05:\n",
    "        ts.append('*')  # significant\n",
    "    else:\n",
    "        ts.append('**') # not significant"
   ]
  },
  {
   "cell_type": "code",
   "execution_count": 44,
   "id": "acc469bf",
   "metadata": {},
   "outputs": [
    {
     "data": {
      "text/html": [
       "<div>\n",
       "<style scoped>\n",
       "    .dataframe tbody tr th:only-of-type {\n",
       "        vertical-align: middle;\n",
       "    }\n",
       "\n",
       "    .dataframe tbody tr th {\n",
       "        vertical-align: top;\n",
       "    }\n",
       "\n",
       "    .dataframe thead th {\n",
       "        text-align: right;\n",
       "    }\n",
       "</style>\n",
       "<table border=\"1\" class=\"dataframe\">\n",
       "  <thead>\n",
       "    <tr style=\"text-align: right;\">\n",
       "      <th></th>\n",
       "      <th>Feature</th>\n",
       "      <th>P-Value</th>\n",
       "      <th>Significance</th>\n",
       "    </tr>\n",
       "  </thead>\n",
       "  <tbody>\n",
       "    <tr>\n",
       "      <th>0</th>\n",
       "      <td>Administrative_Duration</td>\n",
       "      <td>0.0</td>\n",
       "      <td>*</td>\n",
       "    </tr>\n",
       "    <tr>\n",
       "      <th>1</th>\n",
       "      <td>Informational_Duration</td>\n",
       "      <td>0.0</td>\n",
       "      <td>*</td>\n",
       "    </tr>\n",
       "    <tr>\n",
       "      <th>2</th>\n",
       "      <td>ProductRelated_Duration</td>\n",
       "      <td>0.0</td>\n",
       "      <td>*</td>\n",
       "    </tr>\n",
       "    <tr>\n",
       "      <th>3</th>\n",
       "      <td>BounceRates</td>\n",
       "      <td>0.0</td>\n",
       "      <td>*</td>\n",
       "    </tr>\n",
       "    <tr>\n",
       "      <th>4</th>\n",
       "      <td>ExitRates</td>\n",
       "      <td>0.0</td>\n",
       "      <td>*</td>\n",
       "    </tr>\n",
       "    <tr>\n",
       "      <th>5</th>\n",
       "      <td>PageValues</td>\n",
       "      <td>0.0</td>\n",
       "      <td>*</td>\n",
       "    </tr>\n",
       "  </tbody>\n",
       "</table>\n",
       "</div>"
      ],
      "text/plain": [
       "                   Feature  P-Value Significance\n",
       "0  Administrative_Duration      0.0            *\n",
       "1   Informational_Duration      0.0            *\n",
       "2  ProductRelated_Duration      0.0            *\n",
       "3              BounceRates      0.0            *\n",
       "4                ExitRates      0.0            *\n",
       "5               PageValues      0.0            *"
      ]
     },
     "execution_count": 44,
     "metadata": {},
     "output_type": "execute_result"
    }
   ],
   "source": [
    "pd.DataFrame({'Feature': tcol, 'P-Value': tpval, 'Significance': ts})"
   ]
  },
  {
   "cell_type": "markdown",
   "id": "20ca9546",
   "metadata": {},
   "source": [
    "##### Outliers"
   ]
  },
  {
   "cell_type": "code",
   "execution_count": 45,
   "id": "cf0de7c0",
   "metadata": {},
   "outputs": [
    {
     "data": {
      "text/plain": [
       "<AxesSubplot:>"
      ]
     },
     "execution_count": 45,
     "metadata": {},
     "output_type": "execute_result"
    },
    {
     "data": {
      "image/png": "[encoded data removed]",
      "text/plain": [
       "<Figure size 4464x1440 with 1 Axes>"
      ]
     },
     "metadata": {
      "needs_background": "light"
     },
     "output_type": "display_data"
    }
   ],
   "source": [
    "plt.figure(figsize=(62, 20))\n",
    "df.boxplot()"
   ]
  },
  {
   "cell_type": "code",
   "execution_count": 47,
   "id": "f22cfed7",
   "metadata": {},
   "outputs": [
    {
     "name": "stdout",
     "output_type": "stream",
     "text": [
      "Administrative_Duration : \n",
      "\n",
      "Identified outliers: 232\n",
      "Non-outlier observations: 12098\n",
      "Percent of outliers: 1.8815896188158963 \n",
      "\n",
      "Informational_Duration : \n",
      "\n",
      "Identified outliers: 230\n",
      "Non-outlier observations: 12100\n",
      "Percent of outliers: 1.8653690186536902 \n",
      "\n",
      "ProductRelated_Duration : \n",
      "\n",
      "Identified outliers: 219\n",
      "Non-outlier observations: 12111\n",
      "Percent of outliers: 1.7761557177615572 \n",
      "\n",
      "BounceRates : \n",
      "\n",
      "Identified outliers: 708\n",
      "Non-outlier observations: 11622\n",
      "Percent of outliers: 5.742092457420925 \n",
      "\n",
      "ExitRates : \n",
      "\n",
      "Identified outliers: 713\n",
      "Non-outlier observations: 11617\n",
      "Percent of outliers: 5.78264395782644 \n",
      "\n",
      "PageValues : \n",
      "\n",
      "Identified outliers: 259\n",
      "Non-outlier observations: 12071\n",
      "Percent of outliers: 2.1005677210056772 \n",
      "\n"
     ]
    }
   ],
   "source": [
    "# identify outliers with standard deviation\n",
    "from numpy.random import seed\n",
    "from numpy.random import randn\n",
    "from numpy import mean\n",
    "from numpy import std\n",
    "outlier_per=[]\n",
    "for i in numerical_columns:\n",
    "    df_mean, df_std = mean(df[i]), std(df[i])\n",
    "    \n",
    "    # identify outliers\n",
    "    cut_off = df_std * 3\n",
    "    lower, upper = df_mean - cut_off, df_mean + cut_off\n",
    "    print(i, ': \\n')\n",
    "\n",
    "    # identify outliers\n",
    "    outliers = [x for x in df[i] if x < lower or x > upper]\n",
    "    \n",
    "    num_out = len(outliers)\n",
    "    print('Identified outliers: %d' %num_out)\n",
    "    outliers_removed = [x for x in df[i] if x >= lower and x <= upper]\n",
    "    num_nout = len(outliers_removed)\n",
    "    print('Non-outlier observations: %d' %num_nout)\n",
    "    outlier_percent = (num_out / (num_out + num_nout)) * 100\n",
    "    print('Percent of outliers:', outlier_percent, '\\n')\n",
    "    outlier_per.append(outlier_percent)"
   ]
  },
  {
   "cell_type": "code",
   "execution_count": 50,
   "id": "4b40ff2a",
   "metadata": {},
   "outputs": [
    {
     "data": {
      "text/html": [
       "<div>\n",
       "<style scoped>\n",
       "    .dataframe tbody tr th:only-of-type {\n",
       "        vertical-align: middle;\n",
       "    }\n",
       "\n",
       "    .dataframe tbody tr th {\n",
       "        vertical-align: top;\n",
       "    }\n",
       "\n",
       "    .dataframe thead th {\n",
       "        text-align: right;\n",
       "    }\n",
       "</style>\n",
       "<table border=\"1\" class=\"dataframe\">\n",
       "  <thead>\n",
       "    <tr style=\"text-align: right;\">\n",
       "      <th></th>\n",
       "      <th>Feature</th>\n",
       "      <th>% Of Outliers</th>\n",
       "    </tr>\n",
       "  </thead>\n",
       "  <tbody>\n",
       "    <tr>\n",
       "      <th>4</th>\n",
       "      <td>ExitRates</td>\n",
       "      <td>5.782644</td>\n",
       "    </tr>\n",
       "    <tr>\n",
       "      <th>3</th>\n",
       "      <td>BounceRates</td>\n",
       "      <td>5.742092</td>\n",
       "    </tr>\n",
       "    <tr>\n",
       "      <th>5</th>\n",
       "      <td>PageValues</td>\n",
       "      <td>2.100568</td>\n",
       "    </tr>\n",
       "    <tr>\n",
       "      <th>0</th>\n",
       "      <td>Administrative_Duration</td>\n",
       "      <td>1.881590</td>\n",
       "    </tr>\n",
       "    <tr>\n",
       "      <th>1</th>\n",
       "      <td>Informational_Duration</td>\n",
       "      <td>1.865369</td>\n",
       "    </tr>\n",
       "    <tr>\n",
       "      <th>2</th>\n",
       "      <td>ProductRelated_Duration</td>\n",
       "      <td>1.776156</td>\n",
       "    </tr>\n",
       "  </tbody>\n",
       "</table>\n",
       "</div>"
      ],
      "text/plain": [
       "                   Feature  % Of Outliers\n",
       "4                ExitRates       5.782644\n",
       "3              BounceRates       5.742092\n",
       "5               PageValues       2.100568\n",
       "0  Administrative_Duration       1.881590\n",
       "1   Informational_Duration       1.865369\n",
       "2  ProductRelated_Duration       1.776156"
      ]
     },
     "execution_count": 50,
     "metadata": {},
     "output_type": "execute_result"
    }
   ],
   "source": [
    "Outliers = pd.DataFrame({'Feature': numerical_columns, '% Of Outliers': outlier_per})\n",
    "outlier_sorted = Outliers.sort_values('% Of Outliers', ascending = False)\n",
    "outlier_sorted"
   ]
  },
  {
   "cell_type": "code",
   "execution_count": 51,
   "id": "91effa2d",
   "metadata": {},
   "outputs": [
    {
     "data": {
      "image/png": "[encoded data removed]",
      "text/plain": [
       "<Figure size 576x360 with 1 Axes>"
      ]
     },
     "metadata": {
      "needs_background": "light"
     },
     "output_type": "display_data"
    }
   ],
   "source": [
    "plt.rcParams['figure.figsize'] = (8, 5)\n",
    "sns.barplot(y = outlier_sorted['Feature'], x = outlier_sorted['% Of Outliers'], palette = 'GnBu_d')\n",
    "plt.title('Percent fo Outliers by columns')\n",
    "plt.ylabel('Column Name')\n",
    "plt.show()"
   ]
  },
  {
   "cell_type": "code",
   "execution_count": 52,
   "id": "40104f41",
   "metadata": {},
   "outputs": [
    {
     "data": {
      "text/html": [
       "<div>\n",
       "<style scoped>\n",
       "    .dataframe tbody tr th:only-of-type {\n",
       "        vertical-align: middle;\n",
       "    }\n",
       "\n",
       "    .dataframe tbody tr th {\n",
       "        vertical-align: top;\n",
       "    }\n",
       "\n",
       "    .dataframe thead th {\n",
       "        text-align: right;\n",
       "    }\n",
       "</style>\n",
       "<table border=\"1\" class=\"dataframe\">\n",
       "  <thead>\n",
       "    <tr style=\"text-align: right;\">\n",
       "      <th></th>\n",
       "      <th>Administrative</th>\n",
       "      <th>Administrative_Duration</th>\n",
       "      <th>Informational</th>\n",
       "      <th>Informational_Duration</th>\n",
       "      <th>ProductRelated</th>\n",
       "      <th>ProductRelated_Duration</th>\n",
       "      <th>BounceRates</th>\n",
       "      <th>ExitRates</th>\n",
       "      <th>PageValues</th>\n",
       "      <th>SpecialDay</th>\n",
       "      <th>Month</th>\n",
       "      <th>OperatingSystems</th>\n",
       "      <th>Browser</th>\n",
       "      <th>Region</th>\n",
       "      <th>TrafficType</th>\n",
       "      <th>VisitorType</th>\n",
       "      <th>Weekend</th>\n",
       "      <th>Revenue</th>\n",
       "    </tr>\n",
       "  </thead>\n",
       "  <tbody>\n",
       "    <tr>\n",
       "      <th>0</th>\n",
       "      <td>0</td>\n",
       "      <td>0.0</td>\n",
       "      <td>0</td>\n",
       "      <td>0.0</td>\n",
       "      <td>1</td>\n",
       "      <td>0.000000</td>\n",
       "      <td>0.20</td>\n",
       "      <td>0.20</td>\n",
       "      <td>0.0</td>\n",
       "      <td>0.0</td>\n",
       "      <td>Feb</td>\n",
       "      <td>1</td>\n",
       "      <td>1</td>\n",
       "      <td>1</td>\n",
       "      <td>1</td>\n",
       "      <td>Returning_Visitor</td>\n",
       "      <td>False</td>\n",
       "      <td>False</td>\n",
       "    </tr>\n",
       "    <tr>\n",
       "      <th>1</th>\n",
       "      <td>0</td>\n",
       "      <td>0.0</td>\n",
       "      <td>0</td>\n",
       "      <td>0.0</td>\n",
       "      <td>2</td>\n",
       "      <td>64.000000</td>\n",
       "      <td>0.00</td>\n",
       "      <td>0.10</td>\n",
       "      <td>0.0</td>\n",
       "      <td>0.0</td>\n",
       "      <td>Feb</td>\n",
       "      <td>2</td>\n",
       "      <td>2</td>\n",
       "      <td>1</td>\n",
       "      <td>2</td>\n",
       "      <td>Returning_Visitor</td>\n",
       "      <td>False</td>\n",
       "      <td>False</td>\n",
       "    </tr>\n",
       "    <tr>\n",
       "      <th>2</th>\n",
       "      <td>0</td>\n",
       "      <td>0.0</td>\n",
       "      <td>0</td>\n",
       "      <td>0.0</td>\n",
       "      <td>1</td>\n",
       "      <td>0.000000</td>\n",
       "      <td>0.20</td>\n",
       "      <td>0.20</td>\n",
       "      <td>0.0</td>\n",
       "      <td>0.0</td>\n",
       "      <td>Feb</td>\n",
       "      <td>4</td>\n",
       "      <td>1</td>\n",
       "      <td>9</td>\n",
       "      <td>3</td>\n",
       "      <td>Returning_Visitor</td>\n",
       "      <td>False</td>\n",
       "      <td>False</td>\n",
       "    </tr>\n",
       "    <tr>\n",
       "      <th>3</th>\n",
       "      <td>0</td>\n",
       "      <td>0.0</td>\n",
       "      <td>0</td>\n",
       "      <td>0.0</td>\n",
       "      <td>2</td>\n",
       "      <td>2.666667</td>\n",
       "      <td>0.05</td>\n",
       "      <td>0.14</td>\n",
       "      <td>0.0</td>\n",
       "      <td>0.0</td>\n",
       "      <td>Feb</td>\n",
       "      <td>3</td>\n",
       "      <td>2</td>\n",
       "      <td>2</td>\n",
       "      <td>4</td>\n",
       "      <td>Returning_Visitor</td>\n",
       "      <td>False</td>\n",
       "      <td>False</td>\n",
       "    </tr>\n",
       "    <tr>\n",
       "      <th>4</th>\n",
       "      <td>0</td>\n",
       "      <td>0.0</td>\n",
       "      <td>0</td>\n",
       "      <td>0.0</td>\n",
       "      <td>10</td>\n",
       "      <td>627.500000</td>\n",
       "      <td>0.02</td>\n",
       "      <td>0.05</td>\n",
       "      <td>0.0</td>\n",
       "      <td>0.0</td>\n",
       "      <td>Feb</td>\n",
       "      <td>3</td>\n",
       "      <td>3</td>\n",
       "      <td>1</td>\n",
       "      <td>4</td>\n",
       "      <td>Returning_Visitor</td>\n",
       "      <td>True</td>\n",
       "      <td>False</td>\n",
       "    </tr>\n",
       "  </tbody>\n",
       "</table>\n",
       "</div>"
      ],
      "text/plain": [
       "   Administrative  Administrative_Duration  Informational  \\\n",
       "0               0                      0.0              0   \n",
       "1               0                      0.0              0   \n",
       "2               0                      0.0              0   \n",
       "3               0                      0.0              0   \n",
       "4               0                      0.0              0   \n",
       "\n",
       "   Informational_Duration  ProductRelated  ProductRelated_Duration  \\\n",
       "0                     0.0               1                 0.000000   \n",
       "1                     0.0               2                64.000000   \n",
       "2                     0.0               1                 0.000000   \n",
       "3                     0.0               2                 2.666667   \n",
       "4                     0.0              10               627.500000   \n",
       "\n",
       "   BounceRates  ExitRates  PageValues  SpecialDay Month  OperatingSystems  \\\n",
       "0         0.20       0.20         0.0         0.0   Feb                 1   \n",
       "1         0.00       0.10         0.0         0.0   Feb                 2   \n",
       "2         0.20       0.20         0.0         0.0   Feb                 4   \n",
       "3         0.05       0.14         0.0         0.0   Feb                 3   \n",
       "4         0.02       0.05         0.0         0.0   Feb                 3   \n",
       "\n",
       "   Browser  Region  TrafficType        VisitorType  Weekend  Revenue  \n",
       "0        1       1            1  Returning_Visitor    False    False  \n",
       "1        2       1            2  Returning_Visitor    False    False  \n",
       "2        1       9            3  Returning_Visitor    False    False  \n",
       "3        2       2            4  Returning_Visitor    False    False  \n",
       "4        3       1            4  Returning_Visitor     True    False  "
      ]
     },
     "execution_count": 52,
     "metadata": {},
     "output_type": "execute_result"
    }
   ],
   "source": [
    "df2 = df.copy()\n",
    "df2.head()"
   ]
  },
  {
   "cell_type": "markdown",
   "id": "caef4d5a",
   "metadata": {},
   "source": [
    "##### Distribution before Transformation"
   ]
  },
  {
   "cell_type": "code",
   "execution_count": 53,
   "id": "df64ac38",
   "metadata": {},
   "outputs": [
    {
     "data": {
      "text/plain": [
       "array([[<AxesSubplot:title={'center':'Administrative_Duration'}>,\n",
       "        <AxesSubplot:title={'center':'Informational_Duration'}>],\n",
       "       [<AxesSubplot:title={'center':'ProductRelated_Duration'}>,\n",
       "        <AxesSubplot:title={'center':'BounceRates'}>],\n",
       "       [<AxesSubplot:title={'center':'ExitRates'}>,\n",
       "        <AxesSubplot:title={'center':'PageValues'}>]], dtype=object)"
      ]
     },
     "execution_count": 53,
     "metadata": {},
     "output_type": "execute_result"
    },
    {
     "data": {
      "image/png": "[encoded data removed]",
      "text/plain": [
       "<Figure size 1440x1440 with 6 Axes>"
      ]
     },
     "metadata": {
      "needs_background": "light"
     },
     "output_type": "display_data"
    }
   ],
   "source": [
    "df2.hist(column=numerical_columns,figsize=(20,20))"
   ]
  },
  {
   "cell_type": "markdown",
   "id": "8b9f6cd1",
   "metadata": {},
   "source": [
    "##### Transforming the columns with the best transformation technique given by above code"
   ]
  },
  {
   "cell_type": "code",
   "execution_count": 54,
   "id": "612a00bb",
   "metadata": {},
   "outputs": [],
   "source": [
    "df2['Administrative_Duration']=1/(df['Administrative_Duration']+1)\n",
    "df2['Informational_Duration'],i = st.boxcox(df['Informational_Duration']+1)\n",
    "df2['ProductRelated_Duration'],pd = st.boxcox(df['ProductRelated_Duration']+1)\n",
    "df2['BounceRates']= df['BounceRates']**0.2 \n",
    "df2['ExitRates']=df['ExitRates']**0.2 \n",
    "df2['PageValues'],p = st.boxcox(df['PageValues']+1)"
   ]
  },
  {
   "cell_type": "markdown",
   "id": "8a4bb6da",
   "metadata": {},
   "source": [
    "##### Distribution after transformation"
   ]
  },
  {
   "cell_type": "code",
   "execution_count": 55,
   "id": "1bb73a6a",
   "metadata": {
    "scrolled": true
   },
   "outputs": [
    {
     "data": {
      "text/plain": [
       "array([[<AxesSubplot:title={'center':'Administrative_Duration'}>,\n",
       "        <AxesSubplot:title={'center':'Informational_Duration'}>],\n",
       "       [<AxesSubplot:title={'center':'ProductRelated_Duration'}>,\n",
       "        <AxesSubplot:title={'center':'BounceRates'}>],\n",
       "       [<AxesSubplot:title={'center':'ExitRates'}>,\n",
       "        <AxesSubplot:title={'center':'PageValues'}>]], dtype=object)"
      ]
     },
     "execution_count": 55,
     "metadata": {},
     "output_type": "execute_result"
    },
    {
     "data": {
      "image/png": "[encoded data removed]",
      "text/plain": [
       "<Figure size 1440x1440 with 6 Axes>"
      ]
     },
     "metadata": {
      "needs_background": "light"
     },
     "output_type": "display_data"
    }
   ],
   "source": [
    "df2.hist(column=numerical_columns,figsize=(20,20))"
   ]
  },
  {
   "cell_type": "code",
   "execution_count": 64,
   "id": "1d7a1b47",
   "metadata": {},
   "outputs": [
    {
     "data": {
      "image/png": "[encoded data removed]",
      "text/plain": [
       "<Figure size 504x504 with 4 Axes>"
      ]
     },
     "metadata": {
      "needs_background": "light"
     },
     "output_type": "display_data"
    },
    {
     "data": {
      "image/png": "[encoded data removed]",
      "text/plain": [
       "<Figure size 565.25x504 with 1 Axes>"
      ]
     },
     "metadata": {
      "needs_background": "light"
     },
     "output_type": "display_data"
    }
   ],
   "source": [
    "df.hist(column='Administrative', by='Revenue', sharex=True, sharey=True, figsize=(7,7), layout=(2,2))\n",
    "plt.show()\n",
    "\n",
    "g = sns.FacetGrid(df, hue='Revenue', height=7)\n",
    "g.map(sns.distplot, 'Administrative', label='Revenue')\n",
    "g.add_legend()\n",
    "plt.show()"
   ]
  },
  {
   "cell_type": "markdown",
   "id": "b45b2124",
   "metadata": {},
   "source": [
    "#### Clustering Analysis\n",
    "**Trying to learn the user characteristics of in terms of time spent on the Website**\n",
    "\n",
    "1. Administrative Duration vs Bounce Rate\n",
    "2. Informative Duration vs Bounce Rates\n",
    "3. Administrative Duration vs Exit Rates\n",
    "\n",
    "**Where from the Users of the Website come?**\n",
    "\n",
    "1. Region vs Traffic Type\n",
    "2. Adminstrative Duration vs Region\n",
    "3. The Elbow Method to find out the maximum no. of Optimal Clusters\n",
    "\n",
    "Compute clustering algorithm(e.g., K-Means Clustering) for different values of k. For instance, by varying k from 1 to 10 clusters.\n",
    "For each k, calculate the total within-cluster sum of square(WCSS).\n",
    "plot the curve of WCSS according to the number of clusters k.\n",
    "The location of a bend(Knee) in the plot is generally considered as an indicator of the appropriate number of clusters."
   ]
  },
  {
   "cell_type": "markdown",
   "id": "1624c345",
   "metadata": {},
   "source": [
    "**The Elbow Method to find out the maximum no. of Optimal Clusters**\n",
    "\n",
    "1. Compute clustering algorithm(e.g., K-Means Clustering) for different values of k. For instance, by varying k from 1 to 10 clusters.\n",
    "2. For each k, calculate the total within-cluster sum of square(WCSS).\n",
    "3. plot the curve of WCSS according to the number of clusters k.\n",
    "4. The location of a bend(Knee) in the plot is generally considered as an indicator of the appropriate number of clusters.\n"
   ]
  },
  {
   "cell_type": "code",
   "execution_count": 56,
   "id": "6b770040",
   "metadata": {},
   "outputs": [
    {
     "data": {
      "text/plain": [
       "0"
      ]
     },
     "execution_count": 56,
     "metadata": {},
     "output_type": "execute_result"
    }
   ],
   "source": [
    "# Imputing Missing Values with 0\n",
    "df2.fillna(0, inplace = True)\n",
    "\n",
    "#checking the no. of null values after imputing\n",
    "df2.isnull().sum().sum()"
   ]
  },
  {
   "cell_type": "markdown",
   "id": "5ccd53b1",
   "metadata": {},
   "source": [
    "##### 1. Administrative Duration vs Bounce Rates"
   ]
  },
  {
   "cell_type": "code",
   "execution_count": 57,
   "id": "8224e7c6",
   "metadata": {
    "scrolled": false
   },
   "outputs": [
    {
     "name": "stdout",
     "output_type": "stream",
     "text": [
      "Shape of the dataset:  (12330, 2)\n"
     ]
    },
    {
     "data": {
      "image/png": "[encoded data removed]",
      "text/plain": [
       "<Figure size 1080x504 with 1 Axes>"
      ]
     },
     "metadata": {
      "needs_background": "light"
     },
     "output_type": "display_data"
    }
   ],
   "source": [
    "# Time spent by the Users on website vs Bounce Rates\n",
    "# let's cluster Administrative duration and bounce Rates to different types of clusters in the dataset.\n",
    "# preparing the dataset\n",
    "x = df2.iloc[:, [1, 6]].values\n",
    "\n",
    "# checking the shape of the dataset\n",
    "print(\"Shape of the dataset: \", x.shape)\n",
    "\n",
    "from sklearn.cluster import KMeans\n",
    "\n",
    "wcss = []\n",
    "for i in range(1, 11):\n",
    "    km = KMeans(n_clusters = i,\n",
    "               init = 'k-means++',\n",
    "               max_iter = 200,\n",
    "               n_init = 10, \n",
    "               random_state = 0,\n",
    "               algorithm = 'elkan',\n",
    "               tol = 0.001)\n",
    "    km.fit(x)\n",
    "    labels = km.labels_\n",
    "    wcss.append(km.inertia_)\n",
    "    \n",
    "plt.rcParams['figure.figsize'] = (15, 7)\n",
    "plt.plot(range(1, 11), wcss)\n",
    "plt.grid()\n",
    "plt.tight_layout()\n",
    "plt.xlabel('No. of Clusters')\n",
    "plt.ylabel('within-cluster sum of square')\n",
    "plt.show()"
   ]
  },
  {
   "cell_type": "markdown",
   "id": "811fa871",
   "metadata": {},
   "source": [
    "**What is the observation point here?**\n",
    "\n",
    "According to the above plot, the maximum bend at index 3, that is number of optimal no. of Clusters for Administrative Duration and Revenue is 3. Let's go the next step, i.e., Plotting the Clusters.\n"
   ]
  },
  {
   "cell_type": "markdown",
   "id": "4e1ca324",
   "metadata": {},
   "source": [
    "##### Visualizing the Cluster using scatter plot"
   ]
  },
  {
   "cell_type": "markdown",
   "id": "07b55e14",
   "metadata": {},
   "source": [
    "#### Data Pre-Processing"
   ]
  },
  {
   "cell_type": "code",
   "execution_count": 61,
   "id": "6e7ce1be",
   "metadata": {
    "scrolled": true
   },
   "outputs": [
    {
     "ename": "AttributeError",
     "evalue": "'numpy.float64' object has no attribute 'get_dummies'",
     "output_type": "error",
     "traceback": [
      "\u001b[0;31m---------------------------------------------------------------------------\u001b[0m",
      "\u001b[0;31mAttributeError\u001b[0m                            Traceback (most recent call last)",
      "\u001b[0;32m/var/folders/9n/3h6hhv8n081gwbc29fxg601c0000gn/T/ipykernel_20725/1986864922.py\u001b[0m in \u001b[0;36m<module>\u001b[0;34m\u001b[0m\n\u001b[1;32m      1\u001b[0m \u001b[0;31m# one hot encoding on your dataset\u001b[0m\u001b[0;34m\u001b[0m\u001b[0;34m\u001b[0m\u001b[0;34m\u001b[0m\u001b[0m\n\u001b[0;32m----> 2\u001b[0;31m \u001b[0mdf1\u001b[0m \u001b[0;34m=\u001b[0m \u001b[0mpd\u001b[0m\u001b[0;34m.\u001b[0m\u001b[0mget_dummies\u001b[0m\u001b[0;34m(\u001b[0m\u001b[0mdf2\u001b[0m\u001b[0;34m)\u001b[0m\u001b[0;34m\u001b[0m\u001b[0;34m\u001b[0m\u001b[0m\n\u001b[0m\u001b[1;32m      3\u001b[0m \u001b[0mdf1\u001b[0m\u001b[0;34m.\u001b[0m\u001b[0mhead\u001b[0m\u001b[0;34m(\u001b[0m\u001b[0;34m)\u001b[0m\u001b[0;34m\u001b[0m\u001b[0;34m\u001b[0m\u001b[0m\n",
      "\u001b[0;31mAttributeError\u001b[0m: 'numpy.float64' object has no attribute 'get_dummies'"
     ]
    }
   ],
   "source": [
    "# one hot encoding on your dataset\n",
    "df1 = pd.get_dummies(df2)\n",
    "df1.head()"
   ]
  },
  {
   "cell_type": "code",
   "execution_count": 63,
   "id": "64df7667",
   "metadata": {},
   "outputs": [
    {
     "name": "stdout",
     "output_type": "stream",
     "text": [
      "<class 'pandas.core.frame.DataFrame'>\n",
      "RangeIndex: 12330 entries, 0 to 12329\n",
      "Data columns (total 18 columns):\n",
      " #   Column                   Non-Null Count  Dtype  \n",
      "---  ------                   --------------  -----  \n",
      " 0   Administrative           12330 non-null  int64  \n",
      " 1   Administrative_Duration  12330 non-null  float64\n",
      " 2   Informational            12330 non-null  int64  \n",
      " 3   Informational_Duration   12330 non-null  float64\n",
      " 4   ProductRelated           12330 non-null  int64  \n",
      " 5   ProductRelated_Duration  12330 non-null  float64\n",
      " 6   BounceRates              12330 non-null  float64\n",
      " 7   ExitRates                12330 non-null  float64\n",
      " 8   PageValues               12330 non-null  float64\n",
      " 9   SpecialDay               12330 non-null  float64\n",
      " 10  Month                    12330 non-null  object \n",
      " 11  OperatingSystems         12330 non-null  int64  \n",
      " 12  Browser                  12330 non-null  int64  \n",
      " 13  Region                   12330 non-null  int64  \n",
      " 14  TrafficType              12330 non-null  int64  \n",
      " 15  VisitorType              12330 non-null  object \n",
      " 16  Weekend                  12330 non-null  bool   \n",
      " 17  Revenue                  12330 non-null  bool   \n",
      "dtypes: bool(2), float64(7), int64(7), object(2)\n",
      "memory usage: 1.5+ MB\n"
     ]
    }
   ],
   "source": [
    "df2.info()"
   ]
  },
  {
   "cell_type": "code",
   "execution_count": 62,
   "id": "4e365620",
   "metadata": {},
   "outputs": [
    {
     "data": {
      "text/html": [
       "<div>\n",
       "<style scoped>\n",
       "    .dataframe tbody tr th:only-of-type {\n",
       "        vertical-align: middle;\n",
       "    }\n",
       "\n",
       "    .dataframe tbody tr th {\n",
       "        vertical-align: top;\n",
       "    }\n",
       "\n",
       "    .dataframe thead th {\n",
       "        text-align: right;\n",
       "    }\n",
       "</style>\n",
       "<table border=\"1\" class=\"dataframe\">\n",
       "  <thead>\n",
       "    <tr style=\"text-align: right;\">\n",
       "      <th></th>\n",
       "      <th>Administrative</th>\n",
       "      <th>Administrative_Duration</th>\n",
       "      <th>Informational</th>\n",
       "      <th>Informational_Duration</th>\n",
       "      <th>ProductRelated</th>\n",
       "      <th>ProductRelated_Duration</th>\n",
       "      <th>BounceRates</th>\n",
       "      <th>ExitRates</th>\n",
       "      <th>PageValues</th>\n",
       "      <th>SpecialDay</th>\n",
       "      <th>Month</th>\n",
       "      <th>OperatingSystems</th>\n",
       "      <th>Browser</th>\n",
       "      <th>Region</th>\n",
       "      <th>TrafficType</th>\n",
       "      <th>VisitorType</th>\n",
       "      <th>Weekend</th>\n",
       "      <th>Revenue</th>\n",
       "    </tr>\n",
       "  </thead>\n",
       "  <tbody>\n",
       "    <tr>\n",
       "      <th>0</th>\n",
       "      <td>0</td>\n",
       "      <td>1.0</td>\n",
       "      <td>0</td>\n",
       "      <td>0.0</td>\n",
       "      <td>1</td>\n",
       "      <td>0.000000</td>\n",
       "      <td>0.724780</td>\n",
       "      <td>0.724780</td>\n",
       "      <td>0.0</td>\n",
       "      <td>0.0</td>\n",
       "      <td>Feb</td>\n",
       "      <td>1</td>\n",
       "      <td>1</td>\n",
       "      <td>1</td>\n",
       "      <td>1</td>\n",
       "      <td>Returning_Visitor</td>\n",
       "      <td>False</td>\n",
       "      <td>False</td>\n",
       "    </tr>\n",
       "    <tr>\n",
       "      <th>1</th>\n",
       "      <td>0</td>\n",
       "      <td>1.0</td>\n",
       "      <td>0</td>\n",
       "      <td>0.0</td>\n",
       "      <td>2</td>\n",
       "      <td>6.990788</td>\n",
       "      <td>0.000000</td>\n",
       "      <td>0.630957</td>\n",
       "      <td>0.0</td>\n",
       "      <td>0.0</td>\n",
       "      <td>Feb</td>\n",
       "      <td>2</td>\n",
       "      <td>2</td>\n",
       "      <td>1</td>\n",
       "      <td>2</td>\n",
       "      <td>Returning_Visitor</td>\n",
       "      <td>False</td>\n",
       "      <td>False</td>\n",
       "    </tr>\n",
       "    <tr>\n",
       "      <th>2</th>\n",
       "      <td>0</td>\n",
       "      <td>1.0</td>\n",
       "      <td>0</td>\n",
       "      <td>0.0</td>\n",
       "      <td>1</td>\n",
       "      <td>0.000000</td>\n",
       "      <td>0.724780</td>\n",
       "      <td>0.724780</td>\n",
       "      <td>0.0</td>\n",
       "      <td>0.0</td>\n",
       "      <td>Feb</td>\n",
       "      <td>4</td>\n",
       "      <td>1</td>\n",
       "      <td>9</td>\n",
       "      <td>3</td>\n",
       "      <td>Returning_Visitor</td>\n",
       "      <td>False</td>\n",
       "      <td>False</td>\n",
       "    </tr>\n",
       "    <tr>\n",
       "      <th>3</th>\n",
       "      <td>0</td>\n",
       "      <td>1.0</td>\n",
       "      <td>0</td>\n",
       "      <td>0.0</td>\n",
       "      <td>2</td>\n",
       "      <td>1.513204</td>\n",
       "      <td>0.549280</td>\n",
       "      <td>0.674879</td>\n",
       "      <td>0.0</td>\n",
       "      <td>0.0</td>\n",
       "      <td>Feb</td>\n",
       "      <td>3</td>\n",
       "      <td>2</td>\n",
       "      <td>2</td>\n",
       "      <td>4</td>\n",
       "      <td>Returning_Visitor</td>\n",
       "      <td>False</td>\n",
       "      <td>False</td>\n",
       "    </tr>\n",
       "    <tr>\n",
       "      <th>4</th>\n",
       "      <td>0</td>\n",
       "      <td>1.0</td>\n",
       "      <td>0</td>\n",
       "      <td>0.0</td>\n",
       "      <td>10</td>\n",
       "      <td>14.727490</td>\n",
       "      <td>0.457305</td>\n",
       "      <td>0.549280</td>\n",
       "      <td>0.0</td>\n",
       "      <td>0.0</td>\n",
       "      <td>Feb</td>\n",
       "      <td>3</td>\n",
       "      <td>3</td>\n",
       "      <td>1</td>\n",
       "      <td>4</td>\n",
       "      <td>Returning_Visitor</td>\n",
       "      <td>True</td>\n",
       "      <td>False</td>\n",
       "    </tr>\n",
       "  </tbody>\n",
       "</table>\n",
       "</div>"
      ],
      "text/plain": [
       "   Administrative  Administrative_Duration  Informational  \\\n",
       "0               0                      1.0              0   \n",
       "1               0                      1.0              0   \n",
       "2               0                      1.0              0   \n",
       "3               0                      1.0              0   \n",
       "4               0                      1.0              0   \n",
       "\n",
       "   Informational_Duration  ProductRelated  ProductRelated_Duration  \\\n",
       "0                     0.0               1                 0.000000   \n",
       "1                     0.0               2                 6.990788   \n",
       "2                     0.0               1                 0.000000   \n",
       "3                     0.0               2                 1.513204   \n",
       "4                     0.0              10                14.727490   \n",
       "\n",
       "   BounceRates  ExitRates  PageValues  SpecialDay Month  OperatingSystems  \\\n",
       "0     0.724780   0.724780         0.0         0.0   Feb                 1   \n",
       "1     0.000000   0.630957         0.0         0.0   Feb                 2   \n",
       "2     0.724780   0.724780         0.0         0.0   Feb                 4   \n",
       "3     0.549280   0.674879         0.0         0.0   Feb                 3   \n",
       "4     0.457305   0.549280         0.0         0.0   Feb                 3   \n",
       "\n",
       "   Browser  Region  TrafficType        VisitorType  Weekend  Revenue  \n",
       "0        1       1            1  Returning_Visitor    False    False  \n",
       "1        2       1            2  Returning_Visitor    False    False  \n",
       "2        1       9            3  Returning_Visitor    False    False  \n",
       "3        2       2            4  Returning_Visitor    False    False  \n",
       "4        3       1            4  Returning_Visitor     True    False  "
      ]
     },
     "execution_count": 62,
     "metadata": {},
     "output_type": "execute_result"
    }
   ],
   "source": [
    "df2.head()"
   ]
  },
  {
   "cell_type": "code",
   "execution_count": 72,
   "id": "c2cba2da",
   "metadata": {},
   "outputs": [],
   "source": [
    "def encoding(c):\n",
    "    from sklearn import preprocessing\n",
    "    # label_encoder object knows how to understand word labels.\n",
    "    label_encoder = preprocessing.LabelEncoder()\n",
    " \n",
    "    # Encode labels in column 'species'.\n",
    "    df2[c]= label_encoder.fit_transform(df2[c])\n",
    " \n",
    "    df2[c].unique()\n",
    "    return df2"
   ]
  },
  {
   "cell_type": "code",
   "execution_count": 73,
   "id": "7ab1d710",
   "metadata": {
    "scrolled": false
   },
   "outputs": [
    {
     "data": {
      "text/html": [
       "<div>\n",
       "<style scoped>\n",
       "    .dataframe tbody tr th:only-of-type {\n",
       "        vertical-align: middle;\n",
       "    }\n",
       "\n",
       "    .dataframe tbody tr th {\n",
       "        vertical-align: top;\n",
       "    }\n",
       "\n",
       "    .dataframe thead th {\n",
       "        text-align: right;\n",
       "    }\n",
       "</style>\n",
       "<table border=\"1\" class=\"dataframe\">\n",
       "  <thead>\n",
       "    <tr style=\"text-align: right;\">\n",
       "      <th></th>\n",
       "      <th>Administrative</th>\n",
       "      <th>Administrative_Duration</th>\n",
       "      <th>Informational</th>\n",
       "      <th>Informational_Duration</th>\n",
       "      <th>ProductRelated</th>\n",
       "      <th>ProductRelated_Duration</th>\n",
       "      <th>BounceRates</th>\n",
       "      <th>ExitRates</th>\n",
       "      <th>PageValues</th>\n",
       "      <th>SpecialDay</th>\n",
       "      <th>Month</th>\n",
       "      <th>OperatingSystems</th>\n",
       "      <th>Browser</th>\n",
       "      <th>Region</th>\n",
       "      <th>TrafficType</th>\n",
       "      <th>VisitorType</th>\n",
       "      <th>Weekend</th>\n",
       "      <th>Revenue</th>\n",
       "    </tr>\n",
       "  </thead>\n",
       "  <tbody>\n",
       "    <tr>\n",
       "      <th>0</th>\n",
       "      <td>0</td>\n",
       "      <td>1.000000</td>\n",
       "      <td>0</td>\n",
       "      <td>0.0</td>\n",
       "      <td>1</td>\n",
       "      <td>0.000000</td>\n",
       "      <td>0.724780</td>\n",
       "      <td>0.724780</td>\n",
       "      <td>0.000000</td>\n",
       "      <td>0.0</td>\n",
       "      <td>Feb</td>\n",
       "      <td>1</td>\n",
       "      <td>1</td>\n",
       "      <td>1</td>\n",
       "      <td>1</td>\n",
       "      <td>Returning_Visitor</td>\n",
       "      <td>False</td>\n",
       "      <td>0</td>\n",
       "    </tr>\n",
       "    <tr>\n",
       "      <th>1</th>\n",
       "      <td>0</td>\n",
       "      <td>1.000000</td>\n",
       "      <td>0</td>\n",
       "      <td>0.0</td>\n",
       "      <td>2</td>\n",
       "      <td>6.990788</td>\n",
       "      <td>0.000000</td>\n",
       "      <td>0.630957</td>\n",
       "      <td>0.000000</td>\n",
       "      <td>0.0</td>\n",
       "      <td>Feb</td>\n",
       "      <td>2</td>\n",
       "      <td>2</td>\n",
       "      <td>1</td>\n",
       "      <td>2</td>\n",
       "      <td>Returning_Visitor</td>\n",
       "      <td>False</td>\n",
       "      <td>0</td>\n",
       "    </tr>\n",
       "    <tr>\n",
       "      <th>2</th>\n",
       "      <td>0</td>\n",
       "      <td>1.000000</td>\n",
       "      <td>0</td>\n",
       "      <td>0.0</td>\n",
       "      <td>1</td>\n",
       "      <td>0.000000</td>\n",
       "      <td>0.724780</td>\n",
       "      <td>0.724780</td>\n",
       "      <td>0.000000</td>\n",
       "      <td>0.0</td>\n",
       "      <td>Feb</td>\n",
       "      <td>4</td>\n",
       "      <td>1</td>\n",
       "      <td>9</td>\n",
       "      <td>3</td>\n",
       "      <td>Returning_Visitor</td>\n",
       "      <td>False</td>\n",
       "      <td>0</td>\n",
       "    </tr>\n",
       "    <tr>\n",
       "      <th>3</th>\n",
       "      <td>0</td>\n",
       "      <td>1.000000</td>\n",
       "      <td>0</td>\n",
       "      <td>0.0</td>\n",
       "      <td>2</td>\n",
       "      <td>1.513204</td>\n",
       "      <td>0.549280</td>\n",
       "      <td>0.674879</td>\n",
       "      <td>0.000000</td>\n",
       "      <td>0.0</td>\n",
       "      <td>Feb</td>\n",
       "      <td>3</td>\n",
       "      <td>2</td>\n",
       "      <td>2</td>\n",
       "      <td>4</td>\n",
       "      <td>Returning_Visitor</td>\n",
       "      <td>False</td>\n",
       "      <td>0</td>\n",
       "    </tr>\n",
       "    <tr>\n",
       "      <th>4</th>\n",
       "      <td>0</td>\n",
       "      <td>1.000000</td>\n",
       "      <td>0</td>\n",
       "      <td>0.0</td>\n",
       "      <td>10</td>\n",
       "      <td>14.727490</td>\n",
       "      <td>0.457305</td>\n",
       "      <td>0.549280</td>\n",
       "      <td>0.000000</td>\n",
       "      <td>0.0</td>\n",
       "      <td>Feb</td>\n",
       "      <td>3</td>\n",
       "      <td>3</td>\n",
       "      <td>1</td>\n",
       "      <td>4</td>\n",
       "      <td>Returning_Visitor</td>\n",
       "      <td>True</td>\n",
       "      <td>0</td>\n",
       "    </tr>\n",
       "    <tr>\n",
       "      <th>...</th>\n",
       "      <td>...</td>\n",
       "      <td>...</td>\n",
       "      <td>...</td>\n",
       "      <td>...</td>\n",
       "      <td>...</td>\n",
       "      <td>...</td>\n",
       "      <td>...</td>\n",
       "      <td>...</td>\n",
       "      <td>...</td>\n",
       "      <td>...</td>\n",
       "      <td>...</td>\n",
       "      <td>...</td>\n",
       "      <td>...</td>\n",
       "      <td>...</td>\n",
       "      <td>...</td>\n",
       "      <td>...</td>\n",
       "      <td>...</td>\n",
       "      <td>...</td>\n",
       "    </tr>\n",
       "    <tr>\n",
       "      <th>12325</th>\n",
       "      <td>3</td>\n",
       "      <td>0.006849</td>\n",
       "      <td>0</td>\n",
       "      <td>0.0</td>\n",
       "      <td>53</td>\n",
       "      <td>19.881739</td>\n",
       "      <td>0.372198</td>\n",
       "      <td>0.492687</td>\n",
       "      <td>0.673415</td>\n",
       "      <td>0.0</td>\n",
       "      <td>Dec</td>\n",
       "      <td>4</td>\n",
       "      <td>6</td>\n",
       "      <td>1</td>\n",
       "      <td>1</td>\n",
       "      <td>Returning_Visitor</td>\n",
       "      <td>True</td>\n",
       "      <td>0</td>\n",
       "    </tr>\n",
       "    <tr>\n",
       "      <th>12326</th>\n",
       "      <td>0</td>\n",
       "      <td>1.000000</td>\n",
       "      <td>0</td>\n",
       "      <td>0.0</td>\n",
       "      <td>5</td>\n",
       "      <td>13.470013</td>\n",
       "      <td>0.000000</td>\n",
       "      <td>0.463246</td>\n",
       "      <td>0.000000</td>\n",
       "      <td>0.0</td>\n",
       "      <td>Nov</td>\n",
       "      <td>3</td>\n",
       "      <td>2</td>\n",
       "      <td>1</td>\n",
       "      <td>8</td>\n",
       "      <td>Returning_Visitor</td>\n",
       "      <td>True</td>\n",
       "      <td>0</td>\n",
       "    </tr>\n",
       "    <tr>\n",
       "      <th>12327</th>\n",
       "      <td>0</td>\n",
       "      <td>1.000000</td>\n",
       "      <td>0</td>\n",
       "      <td>0.0</td>\n",
       "      <td>6</td>\n",
       "      <td>10.068619</td>\n",
       "      <td>0.608364</td>\n",
       "      <td>0.613155</td>\n",
       "      <td>0.000000</td>\n",
       "      <td>0.0</td>\n",
       "      <td>Nov</td>\n",
       "      <td>3</td>\n",
       "      <td>2</td>\n",
       "      <td>1</td>\n",
       "      <td>13</td>\n",
       "      <td>Returning_Visitor</td>\n",
       "      <td>True</td>\n",
       "      <td>0</td>\n",
       "    </tr>\n",
       "    <tr>\n",
       "      <th>12328</th>\n",
       "      <td>4</td>\n",
       "      <td>0.013158</td>\n",
       "      <td>0</td>\n",
       "      <td>0.0</td>\n",
       "      <td>15</td>\n",
       "      <td>12.299439</td>\n",
       "      <td>0.000000</td>\n",
       "      <td>0.462021</td>\n",
       "      <td>0.000000</td>\n",
       "      <td>0.0</td>\n",
       "      <td>Nov</td>\n",
       "      <td>2</td>\n",
       "      <td>2</td>\n",
       "      <td>3</td>\n",
       "      <td>11</td>\n",
       "      <td>Returning_Visitor</td>\n",
       "      <td>False</td>\n",
       "      <td>0</td>\n",
       "    </tr>\n",
       "    <tr>\n",
       "      <th>12329</th>\n",
       "      <td>0</td>\n",
       "      <td>1.000000</td>\n",
       "      <td>0</td>\n",
       "      <td>0.0</td>\n",
       "      <td>3</td>\n",
       "      <td>4.518696</td>\n",
       "      <td>0.000000</td>\n",
       "      <td>0.581811</td>\n",
       "      <td>0.000000</td>\n",
       "      <td>0.0</td>\n",
       "      <td>Nov</td>\n",
       "      <td>3</td>\n",
       "      <td>2</td>\n",
       "      <td>1</td>\n",
       "      <td>2</td>\n",
       "      <td>New_Visitor</td>\n",
       "      <td>True</td>\n",
       "      <td>0</td>\n",
       "    </tr>\n",
       "  </tbody>\n",
       "</table>\n",
       "<p>12330 rows × 18 columns</p>\n",
       "</div>"
      ],
      "text/plain": [
       "       Administrative  Administrative_Duration  Informational  \\\n",
       "0                   0                 1.000000              0   \n",
       "1                   0                 1.000000              0   \n",
       "2                   0                 1.000000              0   \n",
       "3                   0                 1.000000              0   \n",
       "4                   0                 1.000000              0   \n",
       "...               ...                      ...            ...   \n",
       "12325               3                 0.006849              0   \n",
       "12326               0                 1.000000              0   \n",
       "12327               0                 1.000000              0   \n",
       "12328               4                 0.013158              0   \n",
       "12329               0                 1.000000              0   \n",
       "\n",
       "       Informational_Duration  ProductRelated  ProductRelated_Duration  \\\n",
       "0                         0.0               1                 0.000000   \n",
       "1                         0.0               2                 6.990788   \n",
       "2                         0.0               1                 0.000000   \n",
       "3                         0.0               2                 1.513204   \n",
       "4                         0.0              10                14.727490   \n",
       "...                       ...             ...                      ...   \n",
       "12325                     0.0              53                19.881739   \n",
       "12326                     0.0               5                13.470013   \n",
       "12327                     0.0               6                10.068619   \n",
       "12328                     0.0              15                12.299439   \n",
       "12329                     0.0               3                 4.518696   \n",
       "\n",
       "       BounceRates  ExitRates  PageValues  SpecialDay Month  OperatingSystems  \\\n",
       "0         0.724780   0.724780    0.000000         0.0   Feb                 1   \n",
       "1         0.000000   0.630957    0.000000         0.0   Feb                 2   \n",
       "2         0.724780   0.724780    0.000000         0.0   Feb                 4   \n",
       "3         0.549280   0.674879    0.000000         0.0   Feb                 3   \n",
       "4         0.457305   0.549280    0.000000         0.0   Feb                 3   \n",
       "...            ...        ...         ...         ...   ...               ...   \n",
       "12325     0.372198   0.492687    0.673415         0.0   Dec                 4   \n",
       "12326     0.000000   0.463246    0.000000         0.0   Nov                 3   \n",
       "12327     0.608364   0.613155    0.000000         0.0   Nov                 3   \n",
       "12328     0.000000   0.462021    0.000000         0.0   Nov                 2   \n",
       "12329     0.000000   0.581811    0.000000         0.0   Nov                 3   \n",
       "\n",
       "       Browser  Region  TrafficType        VisitorType  Weekend  Revenue  \n",
       "0            1       1            1  Returning_Visitor    False        0  \n",
       "1            2       1            2  Returning_Visitor    False        0  \n",
       "2            1       9            3  Returning_Visitor    False        0  \n",
       "3            2       2            4  Returning_Visitor    False        0  \n",
       "4            3       1            4  Returning_Visitor     True        0  \n",
       "...        ...     ...          ...                ...      ...      ...  \n",
       "12325        6       1            1  Returning_Visitor     True        0  \n",
       "12326        2       1            8  Returning_Visitor     True        0  \n",
       "12327        2       1           13  Returning_Visitor     True        0  \n",
       "12328        2       3           11  Returning_Visitor    False        0  \n",
       "12329        2       1            2        New_Visitor     True        0  \n",
       "\n",
       "[12330 rows x 18 columns]"
      ]
     },
     "execution_count": 73,
     "metadata": {},
     "output_type": "execute_result"
    }
   ],
   "source": [
    "encoding('Revenue')"
   ]
  },
  {
   "cell_type": "code",
   "execution_count": 74,
   "id": "b2711a80",
   "metadata": {},
   "outputs": [
    {
     "data": {
      "text/plain": [
       "False    9462\n",
       "True     2868\n",
       "Name: Weekend, dtype: int64"
      ]
     },
     "execution_count": 74,
     "metadata": {},
     "output_type": "execute_result"
    }
   ],
   "source": [
    "df2['Weekend'].value_counts()"
   ]
  },
  {
   "cell_type": "code",
   "execution_count": 75,
   "id": "5ea2a2f2",
   "metadata": {},
   "outputs": [
    {
     "data": {
      "text/html": [
       "<div>\n",
       "<style scoped>\n",
       "    .dataframe tbody tr th:only-of-type {\n",
       "        vertical-align: middle;\n",
       "    }\n",
       "\n",
       "    .dataframe tbody tr th {\n",
       "        vertical-align: top;\n",
       "    }\n",
       "\n",
       "    .dataframe thead th {\n",
       "        text-align: right;\n",
       "    }\n",
       "</style>\n",
       "<table border=\"1\" class=\"dataframe\">\n",
       "  <thead>\n",
       "    <tr style=\"text-align: right;\">\n",
       "      <th></th>\n",
       "      <th>Administrative</th>\n",
       "      <th>Administrative_Duration</th>\n",
       "      <th>Informational</th>\n",
       "      <th>Informational_Duration</th>\n",
       "      <th>ProductRelated</th>\n",
       "      <th>ProductRelated_Duration</th>\n",
       "      <th>BounceRates</th>\n",
       "      <th>ExitRates</th>\n",
       "      <th>PageValues</th>\n",
       "      <th>SpecialDay</th>\n",
       "      <th>Month</th>\n",
       "      <th>OperatingSystems</th>\n",
       "      <th>Browser</th>\n",
       "      <th>Region</th>\n",
       "      <th>TrafficType</th>\n",
       "      <th>VisitorType</th>\n",
       "      <th>Weekend</th>\n",
       "      <th>Revenue</th>\n",
       "    </tr>\n",
       "  </thead>\n",
       "  <tbody>\n",
       "    <tr>\n",
       "      <th>0</th>\n",
       "      <td>0</td>\n",
       "      <td>1.000000</td>\n",
       "      <td>0</td>\n",
       "      <td>0.0</td>\n",
       "      <td>1</td>\n",
       "      <td>0.000000</td>\n",
       "      <td>0.724780</td>\n",
       "      <td>0.724780</td>\n",
       "      <td>0.000000</td>\n",
       "      <td>0.0</td>\n",
       "      <td>Feb</td>\n",
       "      <td>1</td>\n",
       "      <td>1</td>\n",
       "      <td>1</td>\n",
       "      <td>1</td>\n",
       "      <td>Returning_Visitor</td>\n",
       "      <td>0</td>\n",
       "      <td>0</td>\n",
       "    </tr>\n",
       "    <tr>\n",
       "      <th>1</th>\n",
       "      <td>0</td>\n",
       "      <td>1.000000</td>\n",
       "      <td>0</td>\n",
       "      <td>0.0</td>\n",
       "      <td>2</td>\n",
       "      <td>6.990788</td>\n",
       "      <td>0.000000</td>\n",
       "      <td>0.630957</td>\n",
       "      <td>0.000000</td>\n",
       "      <td>0.0</td>\n",
       "      <td>Feb</td>\n",
       "      <td>2</td>\n",
       "      <td>2</td>\n",
       "      <td>1</td>\n",
       "      <td>2</td>\n",
       "      <td>Returning_Visitor</td>\n",
       "      <td>0</td>\n",
       "      <td>0</td>\n",
       "    </tr>\n",
       "    <tr>\n",
       "      <th>2</th>\n",
       "      <td>0</td>\n",
       "      <td>1.000000</td>\n",
       "      <td>0</td>\n",
       "      <td>0.0</td>\n",
       "      <td>1</td>\n",
       "      <td>0.000000</td>\n",
       "      <td>0.724780</td>\n",
       "      <td>0.724780</td>\n",
       "      <td>0.000000</td>\n",
       "      <td>0.0</td>\n",
       "      <td>Feb</td>\n",
       "      <td>4</td>\n",
       "      <td>1</td>\n",
       "      <td>9</td>\n",
       "      <td>3</td>\n",
       "      <td>Returning_Visitor</td>\n",
       "      <td>0</td>\n",
       "      <td>0</td>\n",
       "    </tr>\n",
       "    <tr>\n",
       "      <th>3</th>\n",
       "      <td>0</td>\n",
       "      <td>1.000000</td>\n",
       "      <td>0</td>\n",
       "      <td>0.0</td>\n",
       "      <td>2</td>\n",
       "      <td>1.513204</td>\n",
       "      <td>0.549280</td>\n",
       "      <td>0.674879</td>\n",
       "      <td>0.000000</td>\n",
       "      <td>0.0</td>\n",
       "      <td>Feb</td>\n",
       "      <td>3</td>\n",
       "      <td>2</td>\n",
       "      <td>2</td>\n",
       "      <td>4</td>\n",
       "      <td>Returning_Visitor</td>\n",
       "      <td>0</td>\n",
       "      <td>0</td>\n",
       "    </tr>\n",
       "    <tr>\n",
       "      <th>4</th>\n",
       "      <td>0</td>\n",
       "      <td>1.000000</td>\n",
       "      <td>0</td>\n",
       "      <td>0.0</td>\n",
       "      <td>10</td>\n",
       "      <td>14.727490</td>\n",
       "      <td>0.457305</td>\n",
       "      <td>0.549280</td>\n",
       "      <td>0.000000</td>\n",
       "      <td>0.0</td>\n",
       "      <td>Feb</td>\n",
       "      <td>3</td>\n",
       "      <td>3</td>\n",
       "      <td>1</td>\n",
       "      <td>4</td>\n",
       "      <td>Returning_Visitor</td>\n",
       "      <td>1</td>\n",
       "      <td>0</td>\n",
       "    </tr>\n",
       "    <tr>\n",
       "      <th>...</th>\n",
       "      <td>...</td>\n",
       "      <td>...</td>\n",
       "      <td>...</td>\n",
       "      <td>...</td>\n",
       "      <td>...</td>\n",
       "      <td>...</td>\n",
       "      <td>...</td>\n",
       "      <td>...</td>\n",
       "      <td>...</td>\n",
       "      <td>...</td>\n",
       "      <td>...</td>\n",
       "      <td>...</td>\n",
       "      <td>...</td>\n",
       "      <td>...</td>\n",
       "      <td>...</td>\n",
       "      <td>...</td>\n",
       "      <td>...</td>\n",
       "      <td>...</td>\n",
       "    </tr>\n",
       "    <tr>\n",
       "      <th>12325</th>\n",
       "      <td>3</td>\n",
       "      <td>0.006849</td>\n",
       "      <td>0</td>\n",
       "      <td>0.0</td>\n",
       "      <td>53</td>\n",
       "      <td>19.881739</td>\n",
       "      <td>0.372198</td>\n",
       "      <td>0.492687</td>\n",
       "      <td>0.673415</td>\n",
       "      <td>0.0</td>\n",
       "      <td>Dec</td>\n",
       "      <td>4</td>\n",
       "      <td>6</td>\n",
       "      <td>1</td>\n",
       "      <td>1</td>\n",
       "      <td>Returning_Visitor</td>\n",
       "      <td>1</td>\n",
       "      <td>0</td>\n",
       "    </tr>\n",
       "    <tr>\n",
       "      <th>12326</th>\n",
       "      <td>0</td>\n",
       "      <td>1.000000</td>\n",
       "      <td>0</td>\n",
       "      <td>0.0</td>\n",
       "      <td>5</td>\n",
       "      <td>13.470013</td>\n",
       "      <td>0.000000</td>\n",
       "      <td>0.463246</td>\n",
       "      <td>0.000000</td>\n",
       "      <td>0.0</td>\n",
       "      <td>Nov</td>\n",
       "      <td>3</td>\n",
       "      <td>2</td>\n",
       "      <td>1</td>\n",
       "      <td>8</td>\n",
       "      <td>Returning_Visitor</td>\n",
       "      <td>1</td>\n",
       "      <td>0</td>\n",
       "    </tr>\n",
       "    <tr>\n",
       "      <th>12327</th>\n",
       "      <td>0</td>\n",
       "      <td>1.000000</td>\n",
       "      <td>0</td>\n",
       "      <td>0.0</td>\n",
       "      <td>6</td>\n",
       "      <td>10.068619</td>\n",
       "      <td>0.608364</td>\n",
       "      <td>0.613155</td>\n",
       "      <td>0.000000</td>\n",
       "      <td>0.0</td>\n",
       "      <td>Nov</td>\n",
       "      <td>3</td>\n",
       "      <td>2</td>\n",
       "      <td>1</td>\n",
       "      <td>13</td>\n",
       "      <td>Returning_Visitor</td>\n",
       "      <td>1</td>\n",
       "      <td>0</td>\n",
       "    </tr>\n",
       "    <tr>\n",
       "      <th>12328</th>\n",
       "      <td>4</td>\n",
       "      <td>0.013158</td>\n",
       "      <td>0</td>\n",
       "      <td>0.0</td>\n",
       "      <td>15</td>\n",
       "      <td>12.299439</td>\n",
       "      <td>0.000000</td>\n",
       "      <td>0.462021</td>\n",
       "      <td>0.000000</td>\n",
       "      <td>0.0</td>\n",
       "      <td>Nov</td>\n",
       "      <td>2</td>\n",
       "      <td>2</td>\n",
       "      <td>3</td>\n",
       "      <td>11</td>\n",
       "      <td>Returning_Visitor</td>\n",
       "      <td>0</td>\n",
       "      <td>0</td>\n",
       "    </tr>\n",
       "    <tr>\n",
       "      <th>12329</th>\n",
       "      <td>0</td>\n",
       "      <td>1.000000</td>\n",
       "      <td>0</td>\n",
       "      <td>0.0</td>\n",
       "      <td>3</td>\n",
       "      <td>4.518696</td>\n",
       "      <td>0.000000</td>\n",
       "      <td>0.581811</td>\n",
       "      <td>0.000000</td>\n",
       "      <td>0.0</td>\n",
       "      <td>Nov</td>\n",
       "      <td>3</td>\n",
       "      <td>2</td>\n",
       "      <td>1</td>\n",
       "      <td>2</td>\n",
       "      <td>New_Visitor</td>\n",
       "      <td>1</td>\n",
       "      <td>0</td>\n",
       "    </tr>\n",
       "  </tbody>\n",
       "</table>\n",
       "<p>12330 rows × 18 columns</p>\n",
       "</div>"
      ],
      "text/plain": [
       "       Administrative  Administrative_Duration  Informational  \\\n",
       "0                   0                 1.000000              0   \n",
       "1                   0                 1.000000              0   \n",
       "2                   0                 1.000000              0   \n",
       "3                   0                 1.000000              0   \n",
       "4                   0                 1.000000              0   \n",
       "...               ...                      ...            ...   \n",
       "12325               3                 0.006849              0   \n",
       "12326               0                 1.000000              0   \n",
       "12327               0                 1.000000              0   \n",
       "12328               4                 0.013158              0   \n",
       "12329               0                 1.000000              0   \n",
       "\n",
       "       Informational_Duration  ProductRelated  ProductRelated_Duration  \\\n",
       "0                         0.0               1                 0.000000   \n",
       "1                         0.0               2                 6.990788   \n",
       "2                         0.0               1                 0.000000   \n",
       "3                         0.0               2                 1.513204   \n",
       "4                         0.0              10                14.727490   \n",
       "...                       ...             ...                      ...   \n",
       "12325                     0.0              53                19.881739   \n",
       "12326                     0.0               5                13.470013   \n",
       "12327                     0.0               6                10.068619   \n",
       "12328                     0.0              15                12.299439   \n",
       "12329                     0.0               3                 4.518696   \n",
       "\n",
       "       BounceRates  ExitRates  PageValues  SpecialDay Month  OperatingSystems  \\\n",
       "0         0.724780   0.724780    0.000000         0.0   Feb                 1   \n",
       "1         0.000000   0.630957    0.000000         0.0   Feb                 2   \n",
       "2         0.724780   0.724780    0.000000         0.0   Feb                 4   \n",
       "3         0.549280   0.674879    0.000000         0.0   Feb                 3   \n",
       "4         0.457305   0.549280    0.000000         0.0   Feb                 3   \n",
       "...            ...        ...         ...         ...   ...               ...   \n",
       "12325     0.372198   0.492687    0.673415         0.0   Dec                 4   \n",
       "12326     0.000000   0.463246    0.000000         0.0   Nov                 3   \n",
       "12327     0.608364   0.613155    0.000000         0.0   Nov                 3   \n",
       "12328     0.000000   0.462021    0.000000         0.0   Nov                 2   \n",
       "12329     0.000000   0.581811    0.000000         0.0   Nov                 3   \n",
       "\n",
       "       Browser  Region  TrafficType        VisitorType  Weekend  Revenue  \n",
       "0            1       1            1  Returning_Visitor        0        0  \n",
       "1            2       1            2  Returning_Visitor        0        0  \n",
       "2            1       9            3  Returning_Visitor        0        0  \n",
       "3            2       2            4  Returning_Visitor        0        0  \n",
       "4            3       1            4  Returning_Visitor        1        0  \n",
       "...        ...     ...          ...                ...      ...      ...  \n",
       "12325        6       1            1  Returning_Visitor        1        0  \n",
       "12326        2       1            8  Returning_Visitor        1        0  \n",
       "12327        2       1           13  Returning_Visitor        1        0  \n",
       "12328        2       3           11  Returning_Visitor        0        0  \n",
       "12329        2       1            2        New_Visitor        1        0  \n",
       "\n",
       "[12330 rows x 18 columns]"
      ]
     },
     "execution_count": 75,
     "metadata": {},
     "output_type": "execute_result"
    }
   ],
   "source": [
    "encoding('Weekend')"
   ]
  },
  {
   "cell_type": "code",
   "execution_count": 76,
   "id": "342ab631",
   "metadata": {},
   "outputs": [
    {
     "data": {
      "text/plain": [
       "Returning_Visitor    10551\n",
       "New_Visitor           1694\n",
       "Other                   85\n",
       "Name: VisitorType, dtype: int64"
      ]
     },
     "execution_count": 76,
     "metadata": {},
     "output_type": "execute_result"
    }
   ],
   "source": [
    "df2['VisitorType'].value_counts()"
   ]
  },
  {
   "cell_type": "code",
   "execution_count": 77,
   "id": "66e57965",
   "metadata": {},
   "outputs": [
    {
     "data": {
      "text/html": [
       "<div>\n",
       "<style scoped>\n",
       "    .dataframe tbody tr th:only-of-type {\n",
       "        vertical-align: middle;\n",
       "    }\n",
       "\n",
       "    .dataframe tbody tr th {\n",
       "        vertical-align: top;\n",
       "    }\n",
       "\n",
       "    .dataframe thead th {\n",
       "        text-align: right;\n",
       "    }\n",
       "</style>\n",
       "<table border=\"1\" class=\"dataframe\">\n",
       "  <thead>\n",
       "    <tr style=\"text-align: right;\">\n",
       "      <th></th>\n",
       "      <th>Administrative</th>\n",
       "      <th>Administrative_Duration</th>\n",
       "      <th>Informational</th>\n",
       "      <th>Informational_Duration</th>\n",
       "      <th>ProductRelated</th>\n",
       "      <th>ProductRelated_Duration</th>\n",
       "      <th>BounceRates</th>\n",
       "      <th>ExitRates</th>\n",
       "      <th>PageValues</th>\n",
       "      <th>SpecialDay</th>\n",
       "      <th>Month</th>\n",
       "      <th>OperatingSystems</th>\n",
       "      <th>Browser</th>\n",
       "      <th>Region</th>\n",
       "      <th>TrafficType</th>\n",
       "      <th>VisitorType</th>\n",
       "      <th>Weekend</th>\n",
       "      <th>Revenue</th>\n",
       "    </tr>\n",
       "  </thead>\n",
       "  <tbody>\n",
       "    <tr>\n",
       "      <th>0</th>\n",
       "      <td>0</td>\n",
       "      <td>1.000000</td>\n",
       "      <td>0</td>\n",
       "      <td>0.0</td>\n",
       "      <td>1</td>\n",
       "      <td>0.000000</td>\n",
       "      <td>0.724780</td>\n",
       "      <td>0.724780</td>\n",
       "      <td>0.000000</td>\n",
       "      <td>0.0</td>\n",
       "      <td>Feb</td>\n",
       "      <td>1</td>\n",
       "      <td>1</td>\n",
       "      <td>1</td>\n",
       "      <td>1</td>\n",
       "      <td>2</td>\n",
       "      <td>0</td>\n",
       "      <td>0</td>\n",
       "    </tr>\n",
       "    <tr>\n",
       "      <th>1</th>\n",
       "      <td>0</td>\n",
       "      <td>1.000000</td>\n",
       "      <td>0</td>\n",
       "      <td>0.0</td>\n",
       "      <td>2</td>\n",
       "      <td>6.990788</td>\n",
       "      <td>0.000000</td>\n",
       "      <td>0.630957</td>\n",
       "      <td>0.000000</td>\n",
       "      <td>0.0</td>\n",
       "      <td>Feb</td>\n",
       "      <td>2</td>\n",
       "      <td>2</td>\n",
       "      <td>1</td>\n",
       "      <td>2</td>\n",
       "      <td>2</td>\n",
       "      <td>0</td>\n",
       "      <td>0</td>\n",
       "    </tr>\n",
       "    <tr>\n",
       "      <th>2</th>\n",
       "      <td>0</td>\n",
       "      <td>1.000000</td>\n",
       "      <td>0</td>\n",
       "      <td>0.0</td>\n",
       "      <td>1</td>\n",
       "      <td>0.000000</td>\n",
       "      <td>0.724780</td>\n",
       "      <td>0.724780</td>\n",
       "      <td>0.000000</td>\n",
       "      <td>0.0</td>\n",
       "      <td>Feb</td>\n",
       "      <td>4</td>\n",
       "      <td>1</td>\n",
       "      <td>9</td>\n",
       "      <td>3</td>\n",
       "      <td>2</td>\n",
       "      <td>0</td>\n",
       "      <td>0</td>\n",
       "    </tr>\n",
       "    <tr>\n",
       "      <th>3</th>\n",
       "      <td>0</td>\n",
       "      <td>1.000000</td>\n",
       "      <td>0</td>\n",
       "      <td>0.0</td>\n",
       "      <td>2</td>\n",
       "      <td>1.513204</td>\n",
       "      <td>0.549280</td>\n",
       "      <td>0.674879</td>\n",
       "      <td>0.000000</td>\n",
       "      <td>0.0</td>\n",
       "      <td>Feb</td>\n",
       "      <td>3</td>\n",
       "      <td>2</td>\n",
       "      <td>2</td>\n",
       "      <td>4</td>\n",
       "      <td>2</td>\n",
       "      <td>0</td>\n",
       "      <td>0</td>\n",
       "    </tr>\n",
       "    <tr>\n",
       "      <th>4</th>\n",
       "      <td>0</td>\n",
       "      <td>1.000000</td>\n",
       "      <td>0</td>\n",
       "      <td>0.0</td>\n",
       "      <td>10</td>\n",
       "      <td>14.727490</td>\n",
       "      <td>0.457305</td>\n",
       "      <td>0.549280</td>\n",
       "      <td>0.000000</td>\n",
       "      <td>0.0</td>\n",
       "      <td>Feb</td>\n",
       "      <td>3</td>\n",
       "      <td>3</td>\n",
       "      <td>1</td>\n",
       "      <td>4</td>\n",
       "      <td>2</td>\n",
       "      <td>1</td>\n",
       "      <td>0</td>\n",
       "    </tr>\n",
       "    <tr>\n",
       "      <th>...</th>\n",
       "      <td>...</td>\n",
       "      <td>...</td>\n",
       "      <td>...</td>\n",
       "      <td>...</td>\n",
       "      <td>...</td>\n",
       "      <td>...</td>\n",
       "      <td>...</td>\n",
       "      <td>...</td>\n",
       "      <td>...</td>\n",
       "      <td>...</td>\n",
       "      <td>...</td>\n",
       "      <td>...</td>\n",
       "      <td>...</td>\n",
       "      <td>...</td>\n",
       "      <td>...</td>\n",
       "      <td>...</td>\n",
       "      <td>...</td>\n",
       "      <td>...</td>\n",
       "    </tr>\n",
       "    <tr>\n",
       "      <th>12325</th>\n",
       "      <td>3</td>\n",
       "      <td>0.006849</td>\n",
       "      <td>0</td>\n",
       "      <td>0.0</td>\n",
       "      <td>53</td>\n",
       "      <td>19.881739</td>\n",
       "      <td>0.372198</td>\n",
       "      <td>0.492687</td>\n",
       "      <td>0.673415</td>\n",
       "      <td>0.0</td>\n",
       "      <td>Dec</td>\n",
       "      <td>4</td>\n",
       "      <td>6</td>\n",
       "      <td>1</td>\n",
       "      <td>1</td>\n",
       "      <td>2</td>\n",
       "      <td>1</td>\n",
       "      <td>0</td>\n",
       "    </tr>\n",
       "    <tr>\n",
       "      <th>12326</th>\n",
       "      <td>0</td>\n",
       "      <td>1.000000</td>\n",
       "      <td>0</td>\n",
       "      <td>0.0</td>\n",
       "      <td>5</td>\n",
       "      <td>13.470013</td>\n",
       "      <td>0.000000</td>\n",
       "      <td>0.463246</td>\n",
       "      <td>0.000000</td>\n",
       "      <td>0.0</td>\n",
       "      <td>Nov</td>\n",
       "      <td>3</td>\n",
       "      <td>2</td>\n",
       "      <td>1</td>\n",
       "      <td>8</td>\n",
       "      <td>2</td>\n",
       "      <td>1</td>\n",
       "      <td>0</td>\n",
       "    </tr>\n",
       "    <tr>\n",
       "      <th>12327</th>\n",
       "      <td>0</td>\n",
       "      <td>1.000000</td>\n",
       "      <td>0</td>\n",
       "      <td>0.0</td>\n",
       "      <td>6</td>\n",
       "      <td>10.068619</td>\n",
       "      <td>0.608364</td>\n",
       "      <td>0.613155</td>\n",
       "      <td>0.000000</td>\n",
       "      <td>0.0</td>\n",
       "      <td>Nov</td>\n",
       "      <td>3</td>\n",
       "      <td>2</td>\n",
       "      <td>1</td>\n",
       "      <td>13</td>\n",
       "      <td>2</td>\n",
       "      <td>1</td>\n",
       "      <td>0</td>\n",
       "    </tr>\n",
       "    <tr>\n",
       "      <th>12328</th>\n",
       "      <td>4</td>\n",
       "      <td>0.013158</td>\n",
       "      <td>0</td>\n",
       "      <td>0.0</td>\n",
       "      <td>15</td>\n",
       "      <td>12.299439</td>\n",
       "      <td>0.000000</td>\n",
       "      <td>0.462021</td>\n",
       "      <td>0.000000</td>\n",
       "      <td>0.0</td>\n",
       "      <td>Nov</td>\n",
       "      <td>2</td>\n",
       "      <td>2</td>\n",
       "      <td>3</td>\n",
       "      <td>11</td>\n",
       "      <td>2</td>\n",
       "      <td>0</td>\n",
       "      <td>0</td>\n",
       "    </tr>\n",
       "    <tr>\n",
       "      <th>12329</th>\n",
       "      <td>0</td>\n",
       "      <td>1.000000</td>\n",
       "      <td>0</td>\n",
       "      <td>0.0</td>\n",
       "      <td>3</td>\n",
       "      <td>4.518696</td>\n",
       "      <td>0.000000</td>\n",
       "      <td>0.581811</td>\n",
       "      <td>0.000000</td>\n",
       "      <td>0.0</td>\n",
       "      <td>Nov</td>\n",
       "      <td>3</td>\n",
       "      <td>2</td>\n",
       "      <td>1</td>\n",
       "      <td>2</td>\n",
       "      <td>0</td>\n",
       "      <td>1</td>\n",
       "      <td>0</td>\n",
       "    </tr>\n",
       "  </tbody>\n",
       "</table>\n",
       "<p>12330 rows × 18 columns</p>\n",
       "</div>"
      ],
      "text/plain": [
       "       Administrative  Administrative_Duration  Informational  \\\n",
       "0                   0                 1.000000              0   \n",
       "1                   0                 1.000000              0   \n",
       "2                   0                 1.000000              0   \n",
       "3                   0                 1.000000              0   \n",
       "4                   0                 1.000000              0   \n",
       "...               ...                      ...            ...   \n",
       "12325               3                 0.006849              0   \n",
       "12326               0                 1.000000              0   \n",
       "12327               0                 1.000000              0   \n",
       "12328               4                 0.013158              0   \n",
       "12329               0                 1.000000              0   \n",
       "\n",
       "       Informational_Duration  ProductRelated  ProductRelated_Duration  \\\n",
       "0                         0.0               1                 0.000000   \n",
       "1                         0.0               2                 6.990788   \n",
       "2                         0.0               1                 0.000000   \n",
       "3                         0.0               2                 1.513204   \n",
       "4                         0.0              10                14.727490   \n",
       "...                       ...             ...                      ...   \n",
       "12325                     0.0              53                19.881739   \n",
       "12326                     0.0               5                13.470013   \n",
       "12327                     0.0               6                10.068619   \n",
       "12328                     0.0              15                12.299439   \n",
       "12329                     0.0               3                 4.518696   \n",
       "\n",
       "       BounceRates  ExitRates  PageValues  SpecialDay Month  OperatingSystems  \\\n",
       "0         0.724780   0.724780    0.000000         0.0   Feb                 1   \n",
       "1         0.000000   0.630957    0.000000         0.0   Feb                 2   \n",
       "2         0.724780   0.724780    0.000000         0.0   Feb                 4   \n",
       "3         0.549280   0.674879    0.000000         0.0   Feb                 3   \n",
       "4         0.457305   0.549280    0.000000         0.0   Feb                 3   \n",
       "...            ...        ...         ...         ...   ...               ...   \n",
       "12325     0.372198   0.492687    0.673415         0.0   Dec                 4   \n",
       "12326     0.000000   0.463246    0.000000         0.0   Nov                 3   \n",
       "12327     0.608364   0.613155    0.000000         0.0   Nov                 3   \n",
       "12328     0.000000   0.462021    0.000000         0.0   Nov                 2   \n",
       "12329     0.000000   0.581811    0.000000         0.0   Nov                 3   \n",
       "\n",
       "       Browser  Region  TrafficType  VisitorType  Weekend  Revenue  \n",
       "0            1       1            1            2        0        0  \n",
       "1            2       1            2            2        0        0  \n",
       "2            1       9            3            2        0        0  \n",
       "3            2       2            4            2        0        0  \n",
       "4            3       1            4            2        1        0  \n",
       "...        ...     ...          ...          ...      ...      ...  \n",
       "12325        6       1            1            2        1        0  \n",
       "12326        2       1            8            2        1        0  \n",
       "12327        2       1           13            2        1        0  \n",
       "12328        2       3           11            2        0        0  \n",
       "12329        2       1            2            0        1        0  \n",
       "\n",
       "[12330 rows x 18 columns]"
      ]
     },
     "execution_count": 77,
     "metadata": {},
     "output_type": "execute_result"
    }
   ],
   "source": [
    "encoding('VisitorType')"
   ]
  },
  {
   "cell_type": "code",
   "execution_count": 78,
   "id": "18aca729",
   "metadata": {},
   "outputs": [
    {
     "data": {
      "text/html": [
       "<div>\n",
       "<style scoped>\n",
       "    .dataframe tbody tr th:only-of-type {\n",
       "        vertical-align: middle;\n",
       "    }\n",
       "\n",
       "    .dataframe tbody tr th {\n",
       "        vertical-align: top;\n",
       "    }\n",
       "\n",
       "    .dataframe thead th {\n",
       "        text-align: right;\n",
       "    }\n",
       "</style>\n",
       "<table border=\"1\" class=\"dataframe\">\n",
       "  <thead>\n",
       "    <tr style=\"text-align: right;\">\n",
       "      <th></th>\n",
       "      <th>Administrative</th>\n",
       "      <th>Administrative_Duration</th>\n",
       "      <th>Informational</th>\n",
       "      <th>Informational_Duration</th>\n",
       "      <th>ProductRelated</th>\n",
       "      <th>ProductRelated_Duration</th>\n",
       "      <th>BounceRates</th>\n",
       "      <th>ExitRates</th>\n",
       "      <th>PageValues</th>\n",
       "      <th>SpecialDay</th>\n",
       "      <th>Month</th>\n",
       "      <th>OperatingSystems</th>\n",
       "      <th>Browser</th>\n",
       "      <th>Region</th>\n",
       "      <th>TrafficType</th>\n",
       "      <th>VisitorType</th>\n",
       "      <th>Weekend</th>\n",
       "      <th>Revenue</th>\n",
       "    </tr>\n",
       "  </thead>\n",
       "  <tbody>\n",
       "    <tr>\n",
       "      <th>0</th>\n",
       "      <td>0</td>\n",
       "      <td>1.000000</td>\n",
       "      <td>0</td>\n",
       "      <td>0.0</td>\n",
       "      <td>1</td>\n",
       "      <td>0.000000</td>\n",
       "      <td>0.724780</td>\n",
       "      <td>0.724780</td>\n",
       "      <td>0.000000</td>\n",
       "      <td>0.0</td>\n",
       "      <td>2</td>\n",
       "      <td>1</td>\n",
       "      <td>1</td>\n",
       "      <td>1</td>\n",
       "      <td>1</td>\n",
       "      <td>2</td>\n",
       "      <td>0</td>\n",
       "      <td>0</td>\n",
       "    </tr>\n",
       "    <tr>\n",
       "      <th>1</th>\n",
       "      <td>0</td>\n",
       "      <td>1.000000</td>\n",
       "      <td>0</td>\n",
       "      <td>0.0</td>\n",
       "      <td>2</td>\n",
       "      <td>6.990788</td>\n",
       "      <td>0.000000</td>\n",
       "      <td>0.630957</td>\n",
       "      <td>0.000000</td>\n",
       "      <td>0.0</td>\n",
       "      <td>2</td>\n",
       "      <td>2</td>\n",
       "      <td>2</td>\n",
       "      <td>1</td>\n",
       "      <td>2</td>\n",
       "      <td>2</td>\n",
       "      <td>0</td>\n",
       "      <td>0</td>\n",
       "    </tr>\n",
       "    <tr>\n",
       "      <th>2</th>\n",
       "      <td>0</td>\n",
       "      <td>1.000000</td>\n",
       "      <td>0</td>\n",
       "      <td>0.0</td>\n",
       "      <td>1</td>\n",
       "      <td>0.000000</td>\n",
       "      <td>0.724780</td>\n",
       "      <td>0.724780</td>\n",
       "      <td>0.000000</td>\n",
       "      <td>0.0</td>\n",
       "      <td>2</td>\n",
       "      <td>4</td>\n",
       "      <td>1</td>\n",
       "      <td>9</td>\n",
       "      <td>3</td>\n",
       "      <td>2</td>\n",
       "      <td>0</td>\n",
       "      <td>0</td>\n",
       "    </tr>\n",
       "    <tr>\n",
       "      <th>3</th>\n",
       "      <td>0</td>\n",
       "      <td>1.000000</td>\n",
       "      <td>0</td>\n",
       "      <td>0.0</td>\n",
       "      <td>2</td>\n",
       "      <td>1.513204</td>\n",
       "      <td>0.549280</td>\n",
       "      <td>0.674879</td>\n",
       "      <td>0.000000</td>\n",
       "      <td>0.0</td>\n",
       "      <td>2</td>\n",
       "      <td>3</td>\n",
       "      <td>2</td>\n",
       "      <td>2</td>\n",
       "      <td>4</td>\n",
       "      <td>2</td>\n",
       "      <td>0</td>\n",
       "      <td>0</td>\n",
       "    </tr>\n",
       "    <tr>\n",
       "      <th>4</th>\n",
       "      <td>0</td>\n",
       "      <td>1.000000</td>\n",
       "      <td>0</td>\n",
       "      <td>0.0</td>\n",
       "      <td>10</td>\n",
       "      <td>14.727490</td>\n",
       "      <td>0.457305</td>\n",
       "      <td>0.549280</td>\n",
       "      <td>0.000000</td>\n",
       "      <td>0.0</td>\n",
       "      <td>2</td>\n",
       "      <td>3</td>\n",
       "      <td>3</td>\n",
       "      <td>1</td>\n",
       "      <td>4</td>\n",
       "      <td>2</td>\n",
       "      <td>1</td>\n",
       "      <td>0</td>\n",
       "    </tr>\n",
       "    <tr>\n",
       "      <th>...</th>\n",
       "      <td>...</td>\n",
       "      <td>...</td>\n",
       "      <td>...</td>\n",
       "      <td>...</td>\n",
       "      <td>...</td>\n",
       "      <td>...</td>\n",
       "      <td>...</td>\n",
       "      <td>...</td>\n",
       "      <td>...</td>\n",
       "      <td>...</td>\n",
       "      <td>...</td>\n",
       "      <td>...</td>\n",
       "      <td>...</td>\n",
       "      <td>...</td>\n",
       "      <td>...</td>\n",
       "      <td>...</td>\n",
       "      <td>...</td>\n",
       "      <td>...</td>\n",
       "    </tr>\n",
       "    <tr>\n",
       "      <th>12325</th>\n",
       "      <td>3</td>\n",
       "      <td>0.006849</td>\n",
       "      <td>0</td>\n",
       "      <td>0.0</td>\n",
       "      <td>53</td>\n",
       "      <td>19.881739</td>\n",
       "      <td>0.372198</td>\n",
       "      <td>0.492687</td>\n",
       "      <td>0.673415</td>\n",
       "      <td>0.0</td>\n",
       "      <td>1</td>\n",
       "      <td>4</td>\n",
       "      <td>6</td>\n",
       "      <td>1</td>\n",
       "      <td>1</td>\n",
       "      <td>2</td>\n",
       "      <td>1</td>\n",
       "      <td>0</td>\n",
       "    </tr>\n",
       "    <tr>\n",
       "      <th>12326</th>\n",
       "      <td>0</td>\n",
       "      <td>1.000000</td>\n",
       "      <td>0</td>\n",
       "      <td>0.0</td>\n",
       "      <td>5</td>\n",
       "      <td>13.470013</td>\n",
       "      <td>0.000000</td>\n",
       "      <td>0.463246</td>\n",
       "      <td>0.000000</td>\n",
       "      <td>0.0</td>\n",
       "      <td>7</td>\n",
       "      <td>3</td>\n",
       "      <td>2</td>\n",
       "      <td>1</td>\n",
       "      <td>8</td>\n",
       "      <td>2</td>\n",
       "      <td>1</td>\n",
       "      <td>0</td>\n",
       "    </tr>\n",
       "    <tr>\n",
       "      <th>12327</th>\n",
       "      <td>0</td>\n",
       "      <td>1.000000</td>\n",
       "      <td>0</td>\n",
       "      <td>0.0</td>\n",
       "      <td>6</td>\n",
       "      <td>10.068619</td>\n",
       "      <td>0.608364</td>\n",
       "      <td>0.613155</td>\n",
       "      <td>0.000000</td>\n",
       "      <td>0.0</td>\n",
       "      <td>7</td>\n",
       "      <td>3</td>\n",
       "      <td>2</td>\n",
       "      <td>1</td>\n",
       "      <td>13</td>\n",
       "      <td>2</td>\n",
       "      <td>1</td>\n",
       "      <td>0</td>\n",
       "    </tr>\n",
       "    <tr>\n",
       "      <th>12328</th>\n",
       "      <td>4</td>\n",
       "      <td>0.013158</td>\n",
       "      <td>0</td>\n",
       "      <td>0.0</td>\n",
       "      <td>15</td>\n",
       "      <td>12.299439</td>\n",
       "      <td>0.000000</td>\n",
       "      <td>0.462021</td>\n",
       "      <td>0.000000</td>\n",
       "      <td>0.0</td>\n",
       "      <td>7</td>\n",
       "      <td>2</td>\n",
       "      <td>2</td>\n",
       "      <td>3</td>\n",
       "      <td>11</td>\n",
       "      <td>2</td>\n",
       "      <td>0</td>\n",
       "      <td>0</td>\n",
       "    </tr>\n",
       "    <tr>\n",
       "      <th>12329</th>\n",
       "      <td>0</td>\n",
       "      <td>1.000000</td>\n",
       "      <td>0</td>\n",
       "      <td>0.0</td>\n",
       "      <td>3</td>\n",
       "      <td>4.518696</td>\n",
       "      <td>0.000000</td>\n",
       "      <td>0.581811</td>\n",
       "      <td>0.000000</td>\n",
       "      <td>0.0</td>\n",
       "      <td>7</td>\n",
       "      <td>3</td>\n",
       "      <td>2</td>\n",
       "      <td>1</td>\n",
       "      <td>2</td>\n",
       "      <td>0</td>\n",
       "      <td>1</td>\n",
       "      <td>0</td>\n",
       "    </tr>\n",
       "  </tbody>\n",
       "</table>\n",
       "<p>12330 rows × 18 columns</p>\n",
       "</div>"
      ],
      "text/plain": [
       "       Administrative  Administrative_Duration  Informational  \\\n",
       "0                   0                 1.000000              0   \n",
       "1                   0                 1.000000              0   \n",
       "2                   0                 1.000000              0   \n",
       "3                   0                 1.000000              0   \n",
       "4                   0                 1.000000              0   \n",
       "...               ...                      ...            ...   \n",
       "12325               3                 0.006849              0   \n",
       "12326               0                 1.000000              0   \n",
       "12327               0                 1.000000              0   \n",
       "12328               4                 0.013158              0   \n",
       "12329               0                 1.000000              0   \n",
       "\n",
       "       Informational_Duration  ProductRelated  ProductRelated_Duration  \\\n",
       "0                         0.0               1                 0.000000   \n",
       "1                         0.0               2                 6.990788   \n",
       "2                         0.0               1                 0.000000   \n",
       "3                         0.0               2                 1.513204   \n",
       "4                         0.0              10                14.727490   \n",
       "...                       ...             ...                      ...   \n",
       "12325                     0.0              53                19.881739   \n",
       "12326                     0.0               5                13.470013   \n",
       "12327                     0.0               6                10.068619   \n",
       "12328                     0.0              15                12.299439   \n",
       "12329                     0.0               3                 4.518696   \n",
       "\n",
       "       BounceRates  ExitRates  PageValues  SpecialDay  Month  \\\n",
       "0         0.724780   0.724780    0.000000         0.0      2   \n",
       "1         0.000000   0.630957    0.000000         0.0      2   \n",
       "2         0.724780   0.724780    0.000000         0.0      2   \n",
       "3         0.549280   0.674879    0.000000         0.0      2   \n",
       "4         0.457305   0.549280    0.000000         0.0      2   \n",
       "...            ...        ...         ...         ...    ...   \n",
       "12325     0.372198   0.492687    0.673415         0.0      1   \n",
       "12326     0.000000   0.463246    0.000000         0.0      7   \n",
       "12327     0.608364   0.613155    0.000000         0.0      7   \n",
       "12328     0.000000   0.462021    0.000000         0.0      7   \n",
       "12329     0.000000   0.581811    0.000000         0.0      7   \n",
       "\n",
       "       OperatingSystems  Browser  Region  TrafficType  VisitorType  Weekend  \\\n",
       "0                     1        1       1            1            2        0   \n",
       "1                     2        2       1            2            2        0   \n",
       "2                     4        1       9            3            2        0   \n",
       "3                     3        2       2            4            2        0   \n",
       "4                     3        3       1            4            2        1   \n",
       "...                 ...      ...     ...          ...          ...      ...   \n",
       "12325                 4        6       1            1            2        1   \n",
       "12326                 3        2       1            8            2        1   \n",
       "12327                 3        2       1           13            2        1   \n",
       "12328                 2        2       3           11            2        0   \n",
       "12329                 3        2       1            2            0        1   \n",
       "\n",
       "       Revenue  \n",
       "0            0  \n",
       "1            0  \n",
       "2            0  \n",
       "3            0  \n",
       "4            0  \n",
       "...        ...  \n",
       "12325        0  \n",
       "12326        0  \n",
       "12327        0  \n",
       "12328        0  \n",
       "12329        0  \n",
       "\n",
       "[12330 rows x 18 columns]"
      ]
     },
     "execution_count": 78,
     "metadata": {},
     "output_type": "execute_result"
    }
   ],
   "source": [
    "encoding('Month')"
   ]
  },
  {
   "cell_type": "markdown",
   "id": "acbdb84c",
   "metadata": {},
   "source": [
    "#### Feature Engineering"
   ]
  },
  {
   "cell_type": "code",
   "execution_count": 79,
   "id": "13615481",
   "metadata": {},
   "outputs": [
    {
     "data": {
      "text/plain": [
       "StandardScaler()"
      ]
     },
     "execution_count": 79,
     "metadata": {},
     "output_type": "execute_result"
    }
   ],
   "source": [
    "from sklearn.preprocessing import StandardScaler\n",
    "scaler = StandardScaler()\n",
    "scaler.fit(df2)"
   ]
  },
  {
   "cell_type": "code",
   "execution_count": 80,
   "id": "4446bb4d",
   "metadata": {},
   "outputs": [],
   "source": [
    "X = df2.drop('Revenue',axis=1)\n",
    "y = df2['Revenue']"
   ]
  },
  {
   "cell_type": "code",
   "execution_count": 81,
   "id": "3af6fb08",
   "metadata": {},
   "outputs": [
    {
     "data": {
      "text/html": [
       "<div>\n",
       "<style scoped>\n",
       "    .dataframe tbody tr th:only-of-type {\n",
       "        vertical-align: middle;\n",
       "    }\n",
       "\n",
       "    .dataframe tbody tr th {\n",
       "        vertical-align: top;\n",
       "    }\n",
       "\n",
       "    .dataframe thead th {\n",
       "        text-align: right;\n",
       "    }\n",
       "</style>\n",
       "<table border=\"1\" class=\"dataframe\">\n",
       "  <thead>\n",
       "    <tr style=\"text-align: right;\">\n",
       "      <th></th>\n",
       "      <th>Administrative</th>\n",
       "      <th>Administrative_Duration</th>\n",
       "      <th>Informational</th>\n",
       "      <th>Informational_Duration</th>\n",
       "      <th>ProductRelated</th>\n",
       "      <th>ProductRelated_Duration</th>\n",
       "      <th>BounceRates</th>\n",
       "      <th>ExitRates</th>\n",
       "      <th>PageValues</th>\n",
       "      <th>SpecialDay</th>\n",
       "      <th>Month</th>\n",
       "      <th>OperatingSystems</th>\n",
       "      <th>Browser</th>\n",
       "      <th>Region</th>\n",
       "      <th>TrafficType</th>\n",
       "      <th>VisitorType</th>\n",
       "      <th>Weekend</th>\n",
       "    </tr>\n",
       "  </thead>\n",
       "  <tbody>\n",
       "    <tr>\n",
       "      <th>0</th>\n",
       "      <td>0</td>\n",
       "      <td>1.0</td>\n",
       "      <td>0</td>\n",
       "      <td>0.0</td>\n",
       "      <td>1</td>\n",
       "      <td>0.000000</td>\n",
       "      <td>0.724780</td>\n",
       "      <td>0.724780</td>\n",
       "      <td>0.0</td>\n",
       "      <td>0.0</td>\n",
       "      <td>2</td>\n",
       "      <td>1</td>\n",
       "      <td>1</td>\n",
       "      <td>1</td>\n",
       "      <td>1</td>\n",
       "      <td>2</td>\n",
       "      <td>0</td>\n",
       "    </tr>\n",
       "    <tr>\n",
       "      <th>1</th>\n",
       "      <td>0</td>\n",
       "      <td>1.0</td>\n",
       "      <td>0</td>\n",
       "      <td>0.0</td>\n",
       "      <td>2</td>\n",
       "      <td>6.990788</td>\n",
       "      <td>0.000000</td>\n",
       "      <td>0.630957</td>\n",
       "      <td>0.0</td>\n",
       "      <td>0.0</td>\n",
       "      <td>2</td>\n",
       "      <td>2</td>\n",
       "      <td>2</td>\n",
       "      <td>1</td>\n",
       "      <td>2</td>\n",
       "      <td>2</td>\n",
       "      <td>0</td>\n",
       "    </tr>\n",
       "    <tr>\n",
       "      <th>2</th>\n",
       "      <td>0</td>\n",
       "      <td>1.0</td>\n",
       "      <td>0</td>\n",
       "      <td>0.0</td>\n",
       "      <td>1</td>\n",
       "      <td>0.000000</td>\n",
       "      <td>0.724780</td>\n",
       "      <td>0.724780</td>\n",
       "      <td>0.0</td>\n",
       "      <td>0.0</td>\n",
       "      <td>2</td>\n",
       "      <td>4</td>\n",
       "      <td>1</td>\n",
       "      <td>9</td>\n",
       "      <td>3</td>\n",
       "      <td>2</td>\n",
       "      <td>0</td>\n",
       "    </tr>\n",
       "    <tr>\n",
       "      <th>3</th>\n",
       "      <td>0</td>\n",
       "      <td>1.0</td>\n",
       "      <td>0</td>\n",
       "      <td>0.0</td>\n",
       "      <td>2</td>\n",
       "      <td>1.513204</td>\n",
       "      <td>0.549280</td>\n",
       "      <td>0.674879</td>\n",
       "      <td>0.0</td>\n",
       "      <td>0.0</td>\n",
       "      <td>2</td>\n",
       "      <td>3</td>\n",
       "      <td>2</td>\n",
       "      <td>2</td>\n",
       "      <td>4</td>\n",
       "      <td>2</td>\n",
       "      <td>0</td>\n",
       "    </tr>\n",
       "    <tr>\n",
       "      <th>4</th>\n",
       "      <td>0</td>\n",
       "      <td>1.0</td>\n",
       "      <td>0</td>\n",
       "      <td>0.0</td>\n",
       "      <td>10</td>\n",
       "      <td>14.727490</td>\n",
       "      <td>0.457305</td>\n",
       "      <td>0.549280</td>\n",
       "      <td>0.0</td>\n",
       "      <td>0.0</td>\n",
       "      <td>2</td>\n",
       "      <td>3</td>\n",
       "      <td>3</td>\n",
       "      <td>1</td>\n",
       "      <td>4</td>\n",
       "      <td>2</td>\n",
       "      <td>1</td>\n",
       "    </tr>\n",
       "  </tbody>\n",
       "</table>\n",
       "</div>"
      ],
      "text/plain": [
       "   Administrative  Administrative_Duration  Informational  \\\n",
       "0               0                      1.0              0   \n",
       "1               0                      1.0              0   \n",
       "2               0                      1.0              0   \n",
       "3               0                      1.0              0   \n",
       "4               0                      1.0              0   \n",
       "\n",
       "   Informational_Duration  ProductRelated  ProductRelated_Duration  \\\n",
       "0                     0.0               1                 0.000000   \n",
       "1                     0.0               2                 6.990788   \n",
       "2                     0.0               1                 0.000000   \n",
       "3                     0.0               2                 1.513204   \n",
       "4                     0.0              10                14.727490   \n",
       "\n",
       "   BounceRates  ExitRates  PageValues  SpecialDay  Month  OperatingSystems  \\\n",
       "0     0.724780   0.724780         0.0         0.0      2                 1   \n",
       "1     0.000000   0.630957         0.0         0.0      2                 2   \n",
       "2     0.724780   0.724780         0.0         0.0      2                 4   \n",
       "3     0.549280   0.674879         0.0         0.0      2                 3   \n",
       "4     0.457305   0.549280         0.0         0.0      2                 3   \n",
       "\n",
       "   Browser  Region  TrafficType  VisitorType  Weekend  \n",
       "0        1       1            1            2        0  \n",
       "1        2       1            2            2        0  \n",
       "2        1       9            3            2        0  \n",
       "3        2       2            4            2        0  \n",
       "4        3       1            4            2        1  "
      ]
     },
     "execution_count": 81,
     "metadata": {},
     "output_type": "execute_result"
    }
   ],
   "source": [
    "X.head()"
   ]
  },
  {
   "cell_type": "code",
   "execution_count": 82,
   "id": "bca0b4b0",
   "metadata": {},
   "outputs": [
    {
     "data": {
      "text/plain": [
       "0    0\n",
       "1    0\n",
       "2    0\n",
       "3    0\n",
       "4    0\n",
       "Name: Revenue, dtype: int64"
      ]
     },
     "execution_count": 82,
     "metadata": {},
     "output_type": "execute_result"
    }
   ],
   "source": [
    "y.head()"
   ]
  },
  {
   "cell_type": "code",
   "execution_count": 131,
   "id": "b18bc89c",
   "metadata": {},
   "outputs": [],
   "source": [
    "# splitting the dataset\n",
    "from sklearn.model_selection import train_test_split\n",
    "x_train,x_test,y_train,y_test=train_test_split(X,y,test_size=.3)"
   ]
  },
  {
   "cell_type": "code",
   "execution_count": 132,
   "id": "41c99dd8",
   "metadata": {},
   "outputs": [
    {
     "name": "stdout",
     "output_type": "stream",
     "text": [
      "(8631, 17) (8631,)\n"
     ]
    }
   ],
   "source": [
    "print(X_train.shape,y_train.shape)"
   ]
  },
  {
   "cell_type": "code",
   "execution_count": 133,
   "id": "09169d98",
   "metadata": {},
   "outputs": [
    {
     "name": "stdout",
     "output_type": "stream",
     "text": [
      "(3699, 17) (3699,)\n"
     ]
    }
   ],
   "source": [
    "print(X_test.shape,y_test.shape)"
   ]
  },
  {
   "cell_type": "markdown",
   "id": "47b54256",
   "metadata": {},
   "source": [
    "#### Data Modelling - without SMOTE"
   ]
  },
  {
   "cell_type": "code",
   "execution_count": 134,
   "id": "4b8e8d95",
   "metadata": {},
   "outputs": [],
   "source": [
    "from sklearn.metrics import roc_curve,auc\n",
    "from sklearn.ensemble import GradientBoostingClassifier,RandomForestClassifier\n",
    "from sklearn.linear_model import LogisticRegression\n",
    "from sklearn.neighbors import KNeighborsClassifier\n",
    "from sklearn.tree import DecisionTreeClassifier\n",
    "from sklearn.naive_bayes import GaussianNB"
   ]
  },
  {
   "cell_type": "markdown",
   "id": "f9a40cd2",
   "metadata": {},
   "source": [
    "##### 1. logistic Regression"
   ]
  },
  {
   "cell_type": "code",
   "execution_count": 135,
   "id": "e592a393",
   "metadata": {},
   "outputs": [
    {
     "name": "stdout",
     "output_type": "stream",
     "text": [
      "Train score: 0.867686247248291\n",
      "Test score: 0.8726682887266829\n"
     ]
    }
   ],
   "source": [
    "from sklearn.linear_model import LogisticRegression\n",
    "from sklearn.linear_model import LogisticRegressionCV\n",
    "log=LogisticRegression(C=0.005994,penalty='l1',solver='liblinear')\n",
    "log.fit(x_train,y_train)\n",
    "print('Train score:',log.score(x_train,y_train))\n",
    "print('Test score:',log.score(x_test,y_test))\n",
    "#log.C_"
   ]
  },
  {
   "cell_type": "code",
   "execution_count": 137,
   "id": "6774b641",
   "metadata": {
    "scrolled": true
   },
   "outputs": [
    {
     "name": "stdout",
     "output_type": "stream",
     "text": [
      "F1 Score: 0.33755274261603374\n",
      "Kappa Score: 0.2906329027337988\n",
      "Classification report:\n",
      "               precision    recall  f1-score   support\n",
      "\n",
      "           0       0.88      0.99      0.93      3145\n",
      "           1       0.76      0.22      0.34       554\n",
      "\n",
      "    accuracy                           0.87      3699\n",
      "   macro avg       0.82      0.60      0.63      3699\n",
      "weighted avg       0.86      0.87      0.84      3699\n",
      "\n"
     ]
    }
   ],
   "source": [
    "from sklearn.metrics import accuracy_score,cohen_kappa_score,classification_report\n",
    "from sklearn.metrics import f1_score\n",
    "log_pred=log.predict(x_test)\n",
    "print('F1 Score:',f1_score(y_test,log_pred))\n",
    "print('Kappa Score:',cohen_kappa_score(y_test,log_pred))\n",
    "print('Classification report:\\n',classification_report(y_test,log_pred))"
   ]
  },
  {
   "cell_type": "code",
   "execution_count": 141,
   "id": "4fc0f6d6",
   "metadata": {},
   "outputs": [],
   "source": [
    "fpr,tpr,thresh=roc_curve(y_test,log_pred)\n",
    "auc_log=auc(fpr,tpr)"
   ]
  },
  {
   "cell_type": "markdown",
   "id": "e5baeb54",
   "metadata": {},
   "source": [
    "##### 2. Decision Tree\n"
   ]
  },
  {
   "cell_type": "code",
   "execution_count": 138,
   "id": "74c9eaf8",
   "metadata": {},
   "outputs": [
    {
     "name": "stdout",
     "output_type": "stream",
     "text": [
      "Train score: 0.9118294519754374\n",
      "Test score: 0.8997026223303596\n"
     ]
    }
   ],
   "source": [
    "dt=DecisionTreeClassifier(max_depth=6)\n",
    "dt.fit(x_train,y_train)\n",
    "print('Train score:',dt.score(x_train,y_train))\n",
    "print('Test score:',dt.score(x_test,y_test))"
   ]
  },
  {
   "cell_type": "code",
   "execution_count": 139,
   "id": "e4f26c63",
   "metadata": {
    "scrolled": true
   },
   "outputs": [
    {
     "name": "stdout",
     "output_type": "stream",
     "text": [
      "F1 Score: 0.6123301985370951\n",
      "Kappa Score: 0.5563714453166545\n",
      "Classification report:\n",
      "               precision    recall  f1-score   support\n",
      "\n",
      "           0       0.92      0.97      0.94      3145\n",
      "           1       0.73      0.53      0.61       554\n",
      "\n",
      "    accuracy                           0.90      3699\n",
      "   macro avg       0.82      0.75      0.78      3699\n",
      "weighted avg       0.89      0.90      0.89      3699\n",
      "\n"
     ]
    }
   ],
   "source": [
    "dt_pred=dt.predict(x_test)\n",
    "print('F1 Score:',f1_score(y_test,dt_pred))\n",
    "print('Kappa Score:',cohen_kappa_score(y_test,dt_pred))\n",
    "print('Classification report:\\n',classification_report(y_test,dt_pred))"
   ]
  },
  {
   "cell_type": "code",
   "execution_count": 142,
   "id": "37eba3a2",
   "metadata": {},
   "outputs": [],
   "source": [
    "fpr_dt,tpr_dt,thresh=roc_curve(y_test,dt_pred)\n",
    "auc_dt=auc(fpr,tpr)"
   ]
  },
  {
   "cell_type": "markdown",
   "id": "a4ae2001",
   "metadata": {},
   "source": [
    "##### 3. Random Forest"
   ]
  },
  {
   "cell_type": "code",
   "execution_count": 143,
   "id": "88eb78ba",
   "metadata": {},
   "outputs": [
    {
     "name": "stdout",
     "output_type": "stream",
     "text": [
      "Train score: 0.9131039277024678\n",
      "Test score: 0.9132197891321979\n"
     ]
    }
   ],
   "source": [
    "rf_sm=RandomForestClassifier(max_depth=6)\n",
    "rf_sm.fit(x_train,y_train)\n",
    "print('Train score:',rf_sm.score(x_train,y_train))\n",
    "print('Test score:',rf_sm.score(x_test,y_test))"
   ]
  },
  {
   "cell_type": "code",
   "execution_count": 151,
   "id": "62bdcd04",
   "metadata": {
    "scrolled": true
   },
   "outputs": [
    {
     "name": "stdout",
     "output_type": "stream",
     "text": [
      "F1 Score: 0.6476399560922064\n",
      "Kappa Score: 0.6007780829544962\n",
      "Classification report:\n",
      "               precision    recall  f1-score   support\n",
      "\n",
      "           0       0.92      0.98      0.95      3145\n",
      "           1       0.83      0.53      0.65       554\n",
      "\n",
      "    accuracy                           0.91      3699\n",
      "   macro avg       0.87      0.76      0.80      3699\n",
      "weighted avg       0.91      0.91      0.91      3699\n",
      "\n"
     ]
    }
   ],
   "source": [
    "rf_sm_pred=rf_sm.predict(x_test)\n",
    "print('F1 Score:',f1_score(y_test,rf_sm_pred))\n",
    "print('Kappa Score:',cohen_kappa_score(y_test,rf_sm_pred))\n",
    "print('Classification report:\\n',classification_report(y_test,rf_sm_pred))\n"
   ]
  },
  {
   "cell_type": "code",
   "execution_count": 152,
   "id": "54e4ccba",
   "metadata": {},
   "outputs": [],
   "source": [
    "fpr_rf,tpr_rf,thresh=roc_curve(y_test,rf_sm_pred)\n",
    "auc_rf=auc(fpr,tpr)\n"
   ]
  },
  {
   "cell_type": "markdown",
   "id": "3f4bd262",
   "metadata": {},
   "source": [
    "##### 4. Naive Bayes"
   ]
  },
  {
   "cell_type": "code",
   "execution_count": 154,
   "id": "c3937b4c",
   "metadata": {
    "scrolled": true
   },
   "outputs": [
    {
     "name": "stdout",
     "output_type": "stream",
     "text": [
      "Train score: 0.8421967327076816\n",
      "Test score: 0.8480670451473371\n"
     ]
    }
   ],
   "source": [
    "gnb=GaussianNB()\n",
    "gnb.fit(x_train,y_train)\n",
    "print('Train score:',gnb.score(x_train,y_train))\n",
    "print('Test score:',gnb.score(x_test,y_test))"
   ]
  },
  {
   "cell_type": "code",
   "execution_count": 155,
   "id": "e5f79317",
   "metadata": {},
   "outputs": [],
   "source": [
    "nb_pred=gnb.predict(x_test)\n",
    "fpr2,tpr2,thresh=roc_curve(y_test,nb_pred)\n",
    "auc2=auc(fpr2,tpr2)"
   ]
  },
  {
   "cell_type": "code",
   "execution_count": 156,
   "id": "ec80a519",
   "metadata": {},
   "outputs": [
    {
     "name": "stdout",
     "output_type": "stream",
     "text": [
      "Train score: 0.9117135905457073\n",
      "Test score: 0.902676399026764\n"
     ]
    }
   ],
   "source": [
    "dt=DecisionTreeClassifier(max_depth=6)\n",
    "dt.fit(x_train,y_train)\n",
    "print('Train score:',dt.score(x_train,y_train))\n",
    "print('Test score:',dt.score(x_test,y_test))\n"
   ]
  },
  {
   "cell_type": "code",
   "execution_count": 157,
   "id": "9c35f8f2",
   "metadata": {},
   "outputs": [
    {
     "name": "stdout",
     "output_type": "stream",
     "text": [
      "F1 Score: 0.6311475409836065\n",
      "Kappa Score: 0.5762681662088787\n"
     ]
    }
   ],
   "source": [
    "dt_pred=dt.predict(x_test)\n",
    "print('F1 Score:',f1_score(y_test,dt_pred))\n",
    "print('Kappa Score:',cohen_kappa_score(y_test,dt_pred))"
   ]
  },
  {
   "cell_type": "code",
   "execution_count": 158,
   "id": "fcd46f76",
   "metadata": {},
   "outputs": [],
   "source": [
    "fpr3,tpr3,thresh=roc_curve(y_test,dt_pred)\n",
    "auc3=auc(fpr3,tpr3)"
   ]
  },
  {
   "cell_type": "code",
   "execution_count": 159,
   "id": "c8ede6ad",
   "metadata": {},
   "outputs": [
    {
     "name": "stdout",
     "output_type": "stream",
     "text": [
      "Train score: 0.9139149577105782\n",
      "Test score: 0.9113273857799405\n"
     ]
    }
   ],
   "source": [
    "rf_sm=RandomForestClassifier(max_depth=6)\n",
    "rf_sm.fit(x_train,y_train)\n",
    "print('Train score:',rf_sm.score(x_train,y_train))\n",
    "print('Test score:',rf_sm.score(x_test,y_test))\n"
   ]
  },
  {
   "cell_type": "code",
   "execution_count": 160,
   "id": "0f5d51fb",
   "metadata": {},
   "outputs": [
    {
     "name": "stdout",
     "output_type": "stream",
     "text": [
      "F1 Score: 0.6442516268980476\n",
      "Kappa Score: 0.5959442294921895\n"
     ]
    }
   ],
   "source": [
    "rf_pred_sm=rf_sm.predict(x_test)\n",
    "print('F1 Score:',f1_score(y_test,rf_pred_sm))\n",
    "print('Kappa Score:',cohen_kappa_score(y_test,rf_pred_sm))\n"
   ]
  },
  {
   "cell_type": "code",
   "execution_count": 161,
   "id": "c1488827",
   "metadata": {},
   "outputs": [],
   "source": [
    "fpr4,tpr4,thresh=roc_curve(y_test,rf_pred_sm)\n",
    "auc4=auc(fpr4,tpr4)"
   ]
  },
  {
   "cell_type": "markdown",
   "id": "66ec107a",
   "metadata": {},
   "source": [
    "#### Data Modelling - with SMOTE"
   ]
  },
  {
   "cell_type": "code",
   "execution_count": 113,
   "id": "0ea5dfd8",
   "metadata": {},
   "outputs": [],
   "source": [
    "from imblearn.over_sampling import SMOTE\n",
    "smote=SMOTE(sampling_strategy='minority',random_state=3)\n",
    "\n",
    "X_train_sm,y_train_sm=smote.fit_resample(X_train,y_train)"
   ]
  },
  {
   "cell_type": "code",
   "execution_count": 116,
   "id": "21cee45a",
   "metadata": {
    "scrolled": true
   },
   "outputs": [
    {
     "data": {
      "text/plain": [
       "0    7278\n",
       "1    1353\n",
       "Name: Revenue, dtype: int64"
      ]
     },
     "execution_count": 116,
     "metadata": {},
     "output_type": "execute_result"
    }
   ],
   "source": [
    "# target before smote\n",
    "y_train.value_counts()"
   ]
  },
  {
   "cell_type": "code",
   "execution_count": 118,
   "id": "908d03f4",
   "metadata": {
    "scrolled": true
   },
   "outputs": [
    {
     "data": {
      "text/plain": [
       "0    7278\n",
       "1    7278\n",
       "Name: Revenue, dtype: int64"
      ]
     },
     "execution_count": 118,
     "metadata": {},
     "output_type": "execute_result"
    }
   ],
   "source": [
    "# target after smote\n",
    "y_train_sm.value_counts()"
   ]
  },
  {
   "cell_type": "code",
   "execution_count": 119,
   "id": "ab82de28",
   "metadata": {},
   "outputs": [],
   "source": [
    "x_train,x_test,y_train,y_test=train_test_split(X_train_sm,y_train_sm,test_size=0.3,random_state=1)"
   ]
  },
  {
   "cell_type": "markdown",
   "id": "f62a4b28",
   "metadata": {},
   "source": [
    "##### 1. Logistic Regression"
   ]
  },
  {
   "cell_type": "code",
   "execution_count": 120,
   "id": "1c4b2417",
   "metadata": {},
   "outputs": [
    {
     "name": "stdout",
     "output_type": "stream",
     "text": [
      "Train score: 0.8645598194130926\n",
      "Test score: 0.8594000457980306\n"
     ]
    }
   ],
   "source": [
    "log=LogisticRegression(penalty='l1',solver='liblinear')\n",
    "log.fit(x_train,y_train)\n",
    "print('Train score:',log.score(x_train,y_train))\n",
    "print('Test score:',log.score(x_test,y_test))"
   ]
  },
  {
   "cell_type": "code",
   "execution_count": 121,
   "id": "b22c2054",
   "metadata": {
    "scrolled": true
   },
   "outputs": [
    {
     "name": "stdout",
     "output_type": "stream",
     "text": [
      "F1 Score: 0.8572756857275685\n",
      "Kappa Score: 0.7188321586102643\n"
     ]
    }
   ],
   "source": [
    "log_sm1_pred=log.predict(x_test)\n",
    "print('F1 Score:',f1_score(y_test,log_sm1_pred))\n",
    "print('Kappa Score:',cohen_kappa_score(y_test,log_sm1_pred))"
   ]
  },
  {
   "cell_type": "code",
   "execution_count": 162,
   "id": "2aed7f90",
   "metadata": {},
   "outputs": [],
   "source": [
    "fpr1,tpr1,thresh=roc_curve(y_test,log_pred)\n",
    "auc1=auc(fpr1,tpr1)\n"
   ]
  },
  {
   "cell_type": "markdown",
   "id": "59b28ac0",
   "metadata": {},
   "source": [
    "##### 2. Naive Bayes"
   ]
  },
  {
   "cell_type": "code",
   "execution_count": 163,
   "id": "ce09dcda",
   "metadata": {},
   "outputs": [
    {
     "name": "stdout",
     "output_type": "stream",
     "text": [
      "Train score: 0.8421967327076816\n",
      "Test score: 0.8480670451473371\n"
     ]
    }
   ],
   "source": [
    "gnb=GaussianNB()\n",
    "gnb.fit(x_train,y_train)\n",
    "print('Train score:',gnb.score(x_train,y_train))\n",
    "print('Test score:',gnb.score(x_test,y_test))\n"
   ]
  },
  {
   "cell_type": "code",
   "execution_count": 164,
   "id": "fc18caf1",
   "metadata": {},
   "outputs": [],
   "source": [
    "nb_pred=gnb.predict(x_test)\n",
    "fpr2,tpr2,thresh=roc_curve(y_test,nb_pred)\n",
    "auc2=auc(fpr2,tpr2)"
   ]
  },
  {
   "cell_type": "markdown",
   "id": "67fb855c",
   "metadata": {},
   "source": [
    "##### 2. Decision Tree"
   ]
  },
  {
   "cell_type": "code",
   "execution_count": 122,
   "id": "b8143baf",
   "metadata": {},
   "outputs": [
    {
     "name": "stdout",
     "output_type": "stream",
     "text": [
      "Train score: 0.9178525861222887\n",
      "Test score: 0.9029081749484772\n"
     ]
    }
   ],
   "source": [
    "dt=DecisionTreeClassifier(max_depth=6)\n",
    "dt.fit(x_train,y_train)\n",
    "print('Train score:',dt.score(x_train,y_train))\n",
    "print('Test score:',dt.score(x_test,y_test))"
   ]
  },
  {
   "cell_type": "code",
   "execution_count": 123,
   "id": "48260da8",
   "metadata": {
    "scrolled": true
   },
   "outputs": [
    {
     "name": "stdout",
     "output_type": "stream",
     "text": [
      "F1 Score: 0.9052302190433617\n",
      "Kappa Score: 0.8057859509461653\n"
     ]
    }
   ],
   "source": [
    "dt_sm1_pred_sm=dt.predict(x_test)\n",
    "print('F1 Score:',f1_score(y_test,dt_sm1_pred_sm))\n",
    "print('Kappa Score:',cohen_kappa_score(y_test,dt_sm1_pred_sm))"
   ]
  },
  {
   "cell_type": "code",
   "execution_count": 165,
   "id": "276be39c",
   "metadata": {},
   "outputs": [],
   "source": [
    "fpr3,tpr3,thresh=roc_curve(y_test,dt_pred)\n",
    "auc3=auc(fpr3,tpr3)"
   ]
  },
  {
   "cell_type": "markdown",
   "id": "8e4bac41",
   "metadata": {},
   "source": [
    "##### 3. Random Forest"
   ]
  },
  {
   "cell_type": "code",
   "execution_count": 124,
   "id": "5b0100e1",
   "metadata": {},
   "outputs": [
    {
     "name": "stdout",
     "output_type": "stream",
     "text": [
      "Train score: 0.9885170281676318\n",
      "Test score: 0.9246622395237005\n"
     ]
    }
   ],
   "source": [
    "rf_sm1=RandomForestClassifier(n_estimators=50,max_depth=16)\n",
    "rf_sm1.fit(x_train,y_train)\n",
    "print('Train score:',rf_sm1.score(x_train,y_train))\n",
    "print('Test score:',rf_sm1.score(x_test,y_test))"
   ]
  },
  {
   "cell_type": "code",
   "execution_count": 125,
   "id": "831afe5d",
   "metadata": {},
   "outputs": [
    {
     "name": "stdout",
     "output_type": "stream",
     "text": [
      "F1 Score: 0.9263487799417954\n",
      "Kappa Score: 0.8493025508715846\n"
     ]
    }
   ],
   "source": [
    "rf_sm1_pred_sm=rf_sm1.predict(x_test)\n",
    "print('F1 Score:',f1_score(y_test,rf_sm1_pred_sm))\n",
    "print('Kappa Score:',cohen_kappa_score(y_test,rf_sm1_pred_sm))\n"
   ]
  },
  {
   "cell_type": "code",
   "execution_count": 166,
   "id": "f12d866b",
   "metadata": {},
   "outputs": [],
   "source": [
    "fpr4,tpr4,thresh=roc_curve(y_test,rf_pred_sm)\n",
    "auc4=auc(fpr4,tpr4)"
   ]
  },
  {
   "cell_type": "markdown",
   "id": "282bb612",
   "metadata": {},
   "source": [
    "##### 4. Gradient Boosting"
   ]
  },
  {
   "cell_type": "code",
   "execution_count": 127,
   "id": "7fd22f1f",
   "metadata": {},
   "outputs": [
    {
     "name": "stdout",
     "output_type": "stream",
     "text": [
      "Train score: 0.9412111100206104\n",
      "Test score: 0.917563544767575\n"
     ]
    }
   ],
   "source": [
    "gb=GradientBoostingClassifier(n_estimators=50,max_depth=5)\n",
    "gb.fit(x_train,y_train)\n",
    "print('Train score:',gb.score(x_train,y_train))\n",
    "print('Test score:',gb.score(x_test,y_test))"
   ]
  },
  {
   "cell_type": "code",
   "execution_count": 128,
   "id": "221dc32a",
   "metadata": {},
   "outputs": [
    {
     "name": "stdout",
     "output_type": "stream",
     "text": [
      "F1 Score: 0.918918918918919\n",
      "Kappa Score: 0.8351100996584774\n"
     ]
    }
   ],
   "source": [
    "gb_pred_sm=gb.predict(x_test)\n",
    "print('F1 Score:',f1_score(y_test,gb_pred_sm))\n",
    "print('Kappa Score:',cohen_kappa_score(y_test,gb_pred_sm))"
   ]
  },
  {
   "cell_type": "markdown",
   "id": "65ad2b57",
   "metadata": {},
   "source": [
    "fpr6,tpr6,thresh=roc_curve(y_test,gb_pred_sm)\n",
    "auc6=auc(fpr6,tpr6)"
   ]
  },
  {
   "cell_type": "markdown",
   "id": "3fafb0ff",
   "metadata": {},
   "source": [
    "##### ROC CURVES FOR ALL MODELS"
   ]
  },
  {
   "cell_type": "code",
   "execution_count": 167,
   "id": "5495e233",
   "metadata": {},
   "outputs": [
    {
     "data": {
      "image/png": "[encoded data removed]",
      "text/plain": [
       "<Figure size 1080x504 with 1 Axes>"
      ]
     },
     "metadata": {
      "needs_background": "light"
     },
     "output_type": "display_data"
    }
   ],
   "source": [
    "plt.plot(fpr1,tpr1, label='LR(area = %0.2f)' % auc1,color='red')\n",
    "plt.plot(fpr2, tpr2, label='NB(area = %0.2f)' % auc2,color='black')\n",
    "plt.plot(fpr3, tpr3, label='DT(area = %0.2f)' % auc3,color='magenta')\n",
    "plt.plot(fpr4, tpr4, label='RF(area = %0.2f)' % auc4,color='blue')\n",
    "\n",
    "plt.plot([0, 1], [0, 1], 'k--',color='grey')\n",
    "plt.xlim([0.0, 1.0])\n",
    "plt.ylim([0.0, 1.0])\n",
    "plt.xlabel('False Positive Rate')\n",
    "plt.ylabel('True Positive Rate')\n",
    "plt.title('Receiver operating characteristic example')\n",
    "plt.legend(loc=\"lower right\")\n",
    "plt.show()"
   ]
  },
  {
   "cell_type": "markdown",
   "id": "d6d2977e",
   "metadata": {},
   "source": [
    "**As observed from findings it is clear that the performance improved with SMOTE. Among all models Random Forest With Feature Selection gives best accuracy metrics.**\n",
    "\n",
    "As seen from accuracy metrics and ROC, we can see that Random Forest is best among all as it gives 98% area under, F1 score as 0.90\n",
    "\n",
    "Transformation improved accuracies for Logistic and Naïve Bayes but it hardly improved Random Forest and Decision Tree. So, we go ahead without transformations as it hardly improves any accuracy.\n",
    "\n",
    "KNN is a classification technique but due to less computational power we were able to use it. Also, KNN takes more time to\n",
    "\n",
    "Random Forest was used for feature selection and the important features given by Random Forest are supported by the EDA analysis done."
   ]
  },
  {
   "cell_type": "code",
   "execution_count": null,
   "id": "60fdca47",
   "metadata": {},
   "outputs": [],
   "source": []
  }
 ],
 "metadata": {
  "kernelspec": {
   "display_name": "Python 3 (ipykernel)",
   "language": "python",
   "name": "python3"
  },
  "language_info": {
   "codemirror_mode": {
    "name": "ipython",
    "version": 3
   },
   "file_extension": ".py",
   "mimetype": "text/x-python",
   "name": "python",
   "nbconvert_exporter": "python",
   "pygments_lexer": "ipython3",
   "version": "3.9.6"
  }
 },
 "nbformat": 4,
 "nbformat_minor": 5
}
